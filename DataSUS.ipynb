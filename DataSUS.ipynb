{
  "nbformat": 4,
  "nbformat_minor": 0,
  "metadata": {
    "colab": {
      "provenance": [],
      "collapsed_sections": [
        "qLOiANrmd7ge",
        "w7U8Lyb5r9Jj"
      ]
    },
    "kernelspec": {
      "name": "python3",
      "display_name": "Python 3"
    },
    "language_info": {
      "name": "python"
    }
  },
  "cells": [
    {
      "cell_type": "markdown",
      "source": [
        "# -> Análise Exploratória:\n"
      ],
      "metadata": {
        "id": "qLOiANrmd7ge"
      }
    },
    {
      "cell_type": "markdown",
      "source": [
        "##  - Imports:\n",
        "\n"
      ],
      "metadata": {
        "id": "obFoJaKnkqio"
      }
    },
    {
      "cell_type": "code",
      "execution_count": 2,
      "metadata": {
        "collapsed": true,
        "id": "2uZ6zUhNcwVU"
      },
      "outputs": [],
      "source": [
        "import pandas as pd\n",
        "import seaborn as sns\n",
        "import matplotlib.pyplot as plt\n"
      ]
    },
    {
      "cell_type": "markdown",
      "source": [
        "## Tratamentos nos Dados:"
      ],
      "metadata": {
        "id": "1qxfim4ikwXO"
      }
    },
    {
      "cell_type": "markdown",
      "source": [
        "->leitura dos arquivos ignorando os metadados iniciais\n"
      ],
      "metadata": {
        "id": "wQR_zhwSQmki"
      }
    },
    {
      "cell_type": "code",
      "source": [
        "\n",
        "infecciosas_2023 = pd.read_csv('/Doenças infecciosas 2023 dataset.csv', sep=';', encoding='latin1', skiprows=4)\n",
        "infecciosas_2022 = pd.read_csv('/Doenças infecciosas 2022 dataset.csv', sep=';', encoding='latin1', skiprows=4)\n",
        "infecciosas_2021 = pd.read_csv('/Doenças infecciosas 2021 dataset.csv', sep=';', encoding='latin1', skiprows=4)\n",
        "infecciosas_2020 = pd.read_csv('/Doenças infecciosas 2020 dataset.csv', sep=';', encoding='latin1', skiprows=4)\n",
        "\n",
        "oculares_2023 = pd.read_csv('/Doenças oculares 2023 dataset.csv', sep= ';', encoding='latin1', skiprows=4)\n",
        "oculares_2022 = pd.read_csv('/Doenças oculares 2022 dataset.csv', sep= ';', encoding='latin1', skiprows=4)\n",
        "oculares_2021 = pd.read_csv('/Doenças oculares 2021 dataset.csv', sep= ';', encoding='latin1', skiprows=4)\n",
        "oculares_2020 = pd.read_csv('/Doenças oculares 2020 dataset.csv', sep= ';', encoding='latin1', skiprows=4)\n",
        "\n",
        "tumores_2023 = pd.read_csv('/Neoplasia (Tumores) 2023 dataset.csv', sep= ';', encoding='latin1', skiprows=4)\n",
        "tumores_2022 = pd.read_csv('/Neoplasia (Tumores) 2022 dataset.csv', sep= ';', encoding='latin1', skiprows=4)\n",
        "tumores_2021 = pd.read_csv('/Neoplasia (Tumores) 2021 dataset.csv', sep= ';', encoding='latin1', skiprows=4)\n",
        "tumores_2020 = pd.read_csv('/Neoplasia (Tumores) 2020 dataset.csv', sep= ';', encoding='latin1', skiprows=4)"
      ],
      "metadata": {
        "collapsed": true,
        "id": "S2hnZybad1ci"
      },
      "execution_count": 9,
      "outputs": []
    },
    {
      "cell_type": "markdown",
      "source": [
        "### Visuaização de informações básicas:"
      ],
      "metadata": {
        "id": "D_BXPHM52X9y"
      }
    },
    {
      "cell_type": "markdown",
      "source": [
        "Informações básicas de Doenças Infecciosas em 2023 e renomeando colunas para facilitar a visualização:"
      ],
      "metadata": {
        "id": "y3s7a3TylSzP"
      }
    },
    {
      "cell_type": "code",
      "source": [
        "# Visualizar informações básicas\n",
        "print(infecciosas_2023.info())\n",
        "print(infecciosas_2023.head())"
      ],
      "metadata": {
        "colab": {
          "base_uri": "https://localhost:8080/"
        },
        "collapsed": true,
        "id": "wOLDy_tS2o5S",
        "outputId": "29e285b8-d152-4909-acf4-bcc5e885a967"
      },
      "execution_count": 74,
      "outputs": [
        {
          "output_type": "stream",
          "name": "stdout",
          "text": [
            "<class 'pandas.core.frame.DataFrame'>\n",
            "Index: 6 entries, 0 to 5\n",
            "Data columns (total 4 columns):\n",
            " #   Column    Non-Null Count  Dtype  \n",
            "---  ------    --------------  -----  \n",
            " 0   Região    6 non-null      object \n",
            " 1   Capítulo  6 non-null      float64\n",
            " 2   Óbitos    6 non-null      float64\n",
            " 3   z_score   6 non-null      float64\n",
            "dtypes: float64(3), object(1)\n",
            "memory usage: 240.0+ bytes\n",
            "None\n",
            "                  Região  Capítulo   Óbitos   z_score\n",
            "0         1 Região Norte    5450.0   5450.0 -0.790258\n",
            "1      2 Região Nordeste   18766.0  18766.0 -0.237304\n",
            "2       3 Região Sudeste   34297.0  34297.0  0.407628\n",
            "3           4 Região Sul    9918.0   9918.0 -0.604722\n",
            "4  5 Região Centro-Oeste    5011.0   5011.0 -0.808488\n"
          ]
        }
      ]
    },
    {
      "cell_type": "code",
      "source": [
        "# Renomear colunas\n",
        "infecciosas_2023.columns = ['Região', 'Capítulo', 'Óbitos']\n",
        "\n",
        "infecciosas_2023 = infecciosas_2023.dropna(subset=['Óbitos'])"
      ],
      "metadata": {
        "id": "oexpI9vh6JiC",
        "collapsed": true
      },
      "execution_count": 13,
      "outputs": []
    },
    {
      "cell_type": "markdown",
      "source": [
        "Informações básicas de Doenças Infecciosas em 2022 e renomeando colunas para facilitar a visualização:"
      ],
      "metadata": {
        "id": "4WdPCJBv3hoW"
      }
    },
    {
      "cell_type": "code",
      "source": [
        "# Visualizar informações básicas\n",
        "print(infecciosas_2022.info())\n",
        "print(infecciosas_2022.head())"
      ],
      "metadata": {
        "id": "vIq386h03ZGa",
        "colab": {
          "base_uri": "https://localhost:8080/"
        },
        "collapsed": true,
        "outputId": "8da9f777-95bd-40ca-cfcd-380a6594e0df"
      },
      "execution_count": 14,
      "outputs": [
        {
          "output_type": "stream",
          "name": "stdout",
          "text": [
            "<class 'pandas.core.frame.DataFrame'>\n",
            "RangeIndex: 14 entries, 0 to 13\n",
            "Data columns (total 3 columns):\n",
            " #   Column  Non-Null Count  Dtype  \n",
            "---  ------  --------------  -----  \n",
            " 0   Região  14 non-null     object \n",
            " 1   Cap I   6 non-null      float64\n",
            " 2   Total   6 non-null      float64\n",
            "dtypes: float64(2), object(1)\n",
            "memory usage: 468.0+ bytes\n",
            "None\n",
            "                  Região    Cap I    Total\n",
            "0         1 Região Norte   8984.0   8984.0\n",
            "1      2 Região Nordeste  30808.0  30808.0\n",
            "2       3 Região Sudeste  61924.0  61924.0\n",
            "3           4 Região Sul  20132.0  20132.0\n",
            "4  5 Região Centro-Oeste   9952.0   9952.0\n"
          ]
        }
      ]
    },
    {
      "cell_type": "code",
      "source": [
        "# Renomear colunas\n",
        "infecciosas_2022.columns = ['Região', 'Capítulo', 'Óbitos']\n",
        "\n",
        "infecciosas_2022 = infecciosas_2022.dropna(subset=['Óbitos'])"
      ],
      "metadata": {
        "id": "Kna5kzDu6S7H"
      },
      "execution_count": 15,
      "outputs": []
    },
    {
      "cell_type": "markdown",
      "source": [
        "Informações básicas de Doenças Infecciosas em 2021 e renomeando colunas para facilitar a visualização:"
      ],
      "metadata": {
        "id": "IE6187IV3n6T"
      }
    },
    {
      "cell_type": "code",
      "source": [
        "# Visualizar informações básicas\n",
        "print(infecciosas_2021.info())\n",
        "print(infecciosas_2021.head())"
      ],
      "metadata": {
        "id": "yKxTQhat3omu",
        "colab": {
          "base_uri": "https://localhost:8080/"
        },
        "collapsed": true,
        "outputId": "6489490d-4583-468c-d1bf-9a98fefc7229"
      },
      "execution_count": 16,
      "outputs": [
        {
          "output_type": "stream",
          "name": "stdout",
          "text": [
            "<class 'pandas.core.frame.DataFrame'>\n",
            "RangeIndex: 14 entries, 0 to 13\n",
            "Data columns (total 3 columns):\n",
            " #   Column  Non-Null Count  Dtype  \n",
            "---  ------  --------------  -----  \n",
            " 0   Região  14 non-null     object \n",
            " 1   Cap I   6 non-null      float64\n",
            " 2   Total   6 non-null      float64\n",
            "dtypes: float64(2), object(1)\n",
            "memory usage: 468.0+ bytes\n",
            "None\n",
            "                  Região     Cap I     Total\n",
            "0         1 Região Norte   35680.0   35680.0\n",
            "1      2 Região Nordeste   92273.0   92273.0\n",
            "2       3 Região Sudeste  231051.0  231051.0\n",
            "3           4 Região Sul   83068.0   83068.0\n",
            "4  5 Região Centro-Oeste   44595.0   44595.0\n"
          ]
        }
      ]
    },
    {
      "cell_type": "code",
      "source": [
        "# Renomear colunas\n",
        "infecciosas_2021.columns = ['Região', 'Capítulo', 'Óbitos']\n",
        "\n",
        "infecciosas_2021 = infecciosas_2021.dropna(subset=['Óbitos'])"
      ],
      "metadata": {
        "id": "9OdsRD4K6Vwn"
      },
      "execution_count": 17,
      "outputs": []
    },
    {
      "cell_type": "markdown",
      "source": [
        "Informações básicas de Doenças Infecciosas em 2020 e renomeando colunas para facilitar a visualização:"
      ],
      "metadata": {
        "id": "uL8Tvc7p3qmJ"
      }
    },
    {
      "cell_type": "code",
      "source": [
        "# Visualizar informações básicas\n",
        "print(infecciosas_2020.info())\n",
        "print(infecciosas_2020.head())"
      ],
      "metadata": {
        "id": "VXV6qDuJ3s5L",
        "colab": {
          "base_uri": "https://localhost:8080/"
        },
        "collapsed": true,
        "outputId": "777b4142-292e-4380-c52a-6550cba50cb1"
      },
      "execution_count": 18,
      "outputs": [
        {
          "output_type": "stream",
          "name": "stdout",
          "text": [
            "<class 'pandas.core.frame.DataFrame'>\n",
            "RangeIndex: 16 entries, 0 to 15\n",
            "Data columns (total 3 columns):\n",
            " #   Column  Non-Null Count  Dtype  \n",
            "---  ------  --------------  -----  \n",
            " 0   Região  16 non-null     object \n",
            " 1   Cap I   6 non-null      float64\n",
            " 2   Total   6 non-null      float64\n",
            "dtypes: float64(2), object(1)\n",
            "memory usage: 516.0+ bytes\n",
            "None\n",
            "                  Região     Cap I     Total\n",
            "0         1 Região Norte   24113.0   24113.0\n",
            "1      2 Região Nordeste   69227.0   69227.0\n",
            "2       3 Região Sudeste  122551.0  122551.0\n",
            "3           4 Região Sul   30276.0   30276.0\n",
            "4  5 Região Centro-Oeste   21120.0   21120.0\n"
          ]
        }
      ]
    },
    {
      "cell_type": "code",
      "source": [
        "# Renomear colunas\n",
        "infecciosas_2020.columns = ['Região', 'Capítulo', 'Óbitos']\n",
        "\n",
        "infecciosas_2020 = infecciosas_2020.dropna(subset=['Óbitos'])"
      ],
      "metadata": {
        "id": "lER1wjsz6Wkl"
      },
      "execution_count": 20,
      "outputs": []
    },
    {
      "cell_type": "markdown",
      "source": [
        "Informações básicas de Doenças Oculares em 2023 e renomeando colunas para facilitar a visualização"
      ],
      "metadata": {
        "id": "EbWJvev533Th"
      }
    },
    {
      "cell_type": "code",
      "source": [
        "# Visualizar informações básicas\n",
        "print(oculares_2023.info())\n",
        "print(oculares_2023.head())"
      ],
      "metadata": {
        "id": "5JUjM1o733vr",
        "colab": {
          "base_uri": "https://localhost:8080/"
        },
        "outputId": "81afb43c-26eb-4186-a1fa-fcffeda7ad84"
      },
      "execution_count": 21,
      "outputs": [
        {
          "output_type": "stream",
          "name": "stdout",
          "text": [
            "<class 'pandas.core.frame.DataFrame'>\n",
            "RangeIndex: 14 entries, 0 to 13\n",
            "Data columns (total 3 columns):\n",
            " #   Column   Non-Null Count  Dtype  \n",
            "---  ------   --------------  -----  \n",
            " 0   Região   14 non-null     object \n",
            " 1   Cap VII  6 non-null      float64\n",
            " 2   Total    6 non-null      float64\n",
            "dtypes: float64(2), object(1)\n",
            "memory usage: 468.0+ bytes\n",
            "None\n",
            "                  Região  Cap VII  Total\n",
            "0         1 Região Norte      1.0    1.0\n",
            "1      2 Região Nordeste     19.0   19.0\n",
            "2       3 Região Sudeste     11.0   11.0\n",
            "3           4 Região Sul      1.0    1.0\n",
            "4  5 Região Centro-Oeste      2.0    2.0\n"
          ]
        }
      ]
    },
    {
      "cell_type": "code",
      "source": [
        "# Renomear colunas\n",
        "oculares_2023.columns = ['Região', 'Capítulo', 'Óbitos']\n",
        "\n",
        "oculares_2023 = oculares_2023.dropna(subset=['Óbitos'])"
      ],
      "metadata": {
        "id": "m0Stvm166XQO"
      },
      "execution_count": 22,
      "outputs": []
    },
    {
      "cell_type": "markdown",
      "source": [
        "Informações básicas de Doenças Oculares em 2022 e renomeando colunas para facilitar a visualização:"
      ],
      "metadata": {
        "id": "KiWlMUiH34KX"
      }
    },
    {
      "cell_type": "code",
      "source": [
        "# Visualizar informações básicas\n",
        "print(oculares_2022.info())\n",
        "print(oculares_2022.head())"
      ],
      "metadata": {
        "id": "OzK18HpD34Z4",
        "colab": {
          "base_uri": "https://localhost:8080/"
        },
        "outputId": "07d8b279-f3b3-44c4-d956-e7c09e45a9fe"
      },
      "execution_count": 23,
      "outputs": [
        {
          "output_type": "stream",
          "name": "stdout",
          "text": [
            "<class 'pandas.core.frame.DataFrame'>\n",
            "RangeIndex: 14 entries, 0 to 13\n",
            "Data columns (total 3 columns):\n",
            " #   Column   Non-Null Count  Dtype  \n",
            "---  ------   --------------  -----  \n",
            " 0   Região   14 non-null     object \n",
            " 1   Cap VII  6 non-null      float64\n",
            " 2   Total    6 non-null      float64\n",
            "dtypes: float64(2), object(1)\n",
            "memory usage: 468.0+ bytes\n",
            "None\n",
            "                  Região  Cap VII  Total\n",
            "0         1 Região Norte      1.0    1.0\n",
            "1      2 Região Nordeste     13.0   13.0\n",
            "2       3 Região Sudeste     11.0   11.0\n",
            "3           4 Região Sul      3.0    3.0\n",
            "4  5 Região Centro-Oeste      1.0    1.0\n"
          ]
        }
      ]
    },
    {
      "cell_type": "code",
      "source": [
        "# Renomear colunas\n",
        "oculares_2022.columns = ['Região', 'Capítulo', 'Óbitos']\n",
        "\n",
        "oculares_2022 = oculares_2022.dropna(subset=['Óbitos'])"
      ],
      "metadata": {
        "id": "uGHeWpLL6X8K"
      },
      "execution_count": 24,
      "outputs": []
    },
    {
      "cell_type": "markdown",
      "source": [
        "Informações básicas de Doenças Oculares em 2021 e renomeando colunas para facilitar a visualização:"
      ],
      "metadata": {
        "id": "GdjCEKto34xH"
      }
    },
    {
      "cell_type": "code",
      "source": [
        "# Visualizar informações básicas\n",
        "print(oculares_2021.info())\n",
        "print(oculares_2021.head())"
      ],
      "metadata": {
        "id": "IbLxIYK-35Bz",
        "colab": {
          "base_uri": "https://localhost:8080/"
        },
        "collapsed": true,
        "outputId": "630782e0-8d30-4381-b7f6-b9ea72c0d5bb"
      },
      "execution_count": 25,
      "outputs": [
        {
          "output_type": "stream",
          "name": "stdout",
          "text": [
            "<class 'pandas.core.frame.DataFrame'>\n",
            "RangeIndex: 14 entries, 0 to 13\n",
            "Data columns (total 3 columns):\n",
            " #   Column   Non-Null Count  Dtype  \n",
            "---  ------   --------------  -----  \n",
            " 0   Região   14 non-null     object \n",
            " 1   Cap VII  6 non-null      float64\n",
            " 2   Total    6 non-null      float64\n",
            "dtypes: float64(2), object(1)\n",
            "memory usage: 468.0+ bytes\n",
            "None\n",
            "                  Região  Cap VII  Total\n",
            "0         1 Região Norte      3.0    3.0\n",
            "1      2 Região Nordeste      7.0    7.0\n",
            "2       3 Região Sudeste     11.0   11.0\n",
            "3           4 Região Sul      2.0    2.0\n",
            "4  5 Região Centro-Oeste      1.0    1.0\n"
          ]
        }
      ]
    },
    {
      "cell_type": "code",
      "source": [
        "# Renomear colunas\n",
        "oculares_2021.columns = ['Região', 'Capítulo', 'Óbitos']\n",
        "\n",
        "oculares_2021 = oculares_2021.dropna(subset=['Óbitos'])"
      ],
      "metadata": {
        "id": "10-cd8sG6You"
      },
      "execution_count": 26,
      "outputs": []
    },
    {
      "cell_type": "markdown",
      "source": [
        "Informações básicas de Doenças Oculares em 2020 e renomeando colunas para facilitar a visualização:\n"
      ],
      "metadata": {
        "id": "_ZTy1iHf35w2"
      }
    },
    {
      "cell_type": "code",
      "source": [
        "# Visualizar informações básicas\n",
        "print(oculares_2020.info())\n",
        "print(oculares_2020.head())"
      ],
      "metadata": {
        "id": "BqF3rSqg36FB",
        "colab": {
          "base_uri": "https://localhost:8080/"
        },
        "outputId": "4b1d645f-e53c-43a3-ba94-837ab82ffc07"
      },
      "execution_count": 27,
      "outputs": [
        {
          "output_type": "stream",
          "name": "stdout",
          "text": [
            "<class 'pandas.core.frame.DataFrame'>\n",
            "RangeIndex: 13 entries, 0 to 12\n",
            "Data columns (total 3 columns):\n",
            " #   Column   Non-Null Count  Dtype  \n",
            "---  ------   --------------  -----  \n",
            " 0   Região   13 non-null     object \n",
            " 1   Cap VII  5 non-null      float64\n",
            " 2   Total    5 non-null      float64\n",
            "dtypes: float64(2), object(1)\n",
            "memory usage: 444.0+ bytes\n",
            "None\n",
            "              Região  Cap VII  Total\n",
            "0     1 Região Norte      3.0    3.0\n",
            "1  2 Região Nordeste     10.0   10.0\n",
            "2   3 Região Sudeste     10.0   10.0\n",
            "3       4 Região Sul      1.0    1.0\n",
            "4              Total     24.0   24.0\n"
          ]
        }
      ]
    },
    {
      "cell_type": "code",
      "source": [
        "# Renomear colunas\n",
        "oculares_2020.columns = ['Região', 'Capítulo', 'Óbitos']\n",
        "\n",
        "oculares_2020 = oculares_2020.dropna(subset=['Óbitos'])"
      ],
      "metadata": {
        "id": "r5aEJTzK6ZXQ"
      },
      "execution_count": 28,
      "outputs": []
    },
    {
      "cell_type": "markdown",
      "source": [
        "Informações básicas de Neoplasia (Tumores) em 2023 e renomeando colunas para facilitar a visualização:"
      ],
      "metadata": {
        "id": "Y13PL18D37BU"
      }
    },
    {
      "cell_type": "code",
      "source": [
        "# Visualizar informações básicas\n",
        "print(tumores_2023.info())\n",
        "print(tumores_2023.head())"
      ],
      "metadata": {
        "id": "h7eNfTQd37bk",
        "colab": {
          "base_uri": "https://localhost:8080/"
        },
        "outputId": "bbdf14c2-8975-4549-ad72-1628917413d9"
      },
      "execution_count": 29,
      "outputs": [
        {
          "output_type": "stream",
          "name": "stdout",
          "text": [
            "<class 'pandas.core.frame.DataFrame'>\n",
            "RangeIndex: 14 entries, 0 to 13\n",
            "Data columns (total 3 columns):\n",
            " #   Column  Non-Null Count  Dtype  \n",
            "---  ------  --------------  -----  \n",
            " 0   Região  14 non-null     object \n",
            " 1   Cap II  6 non-null      float64\n",
            " 2   Total   6 non-null      float64\n",
            "dtypes: float64(2), object(1)\n",
            "memory usage: 468.0+ bytes\n",
            "None\n",
            "                  Região    Cap II     Total\n",
            "0         1 Região Norte   13858.0   13858.0\n",
            "1      2 Região Nordeste   57741.0   57741.0\n",
            "2       3 Região Sudeste  118267.0  118267.0\n",
            "3           4 Região Sul   47895.0   47895.0\n",
            "4  5 Região Centro-Oeste   17275.0   17275.0\n"
          ]
        }
      ]
    },
    {
      "cell_type": "code",
      "source": [
        "# Renomear colunas\n",
        "tumores_2023.columns = ['Região', 'Capítulo', 'Óbitos']\n",
        "\n",
        "tumores_2023 = tumores_2023.dropna(subset=['Óbitos'])"
      ],
      "metadata": {
        "id": "q2Q8pWS66aB8"
      },
      "execution_count": 30,
      "outputs": []
    },
    {
      "cell_type": "markdown",
      "source": [
        "Informações básicas de Neoplasia (Tumores) em 2022 e renomeando colunas para facilitar a visualização:"
      ],
      "metadata": {
        "id": "Tyk7kqxZ37oB"
      }
    },
    {
      "cell_type": "code",
      "source": [
        "# Visualizar informações básicas\n",
        "print(tumores_2022.info())\n",
        "print(tumores_2022.head())"
      ],
      "metadata": {
        "id": "DuOXvgp4373H",
        "colab": {
          "base_uri": "https://localhost:8080/"
        },
        "outputId": "dc029c19-d08b-464c-fadb-2875160cca75"
      },
      "execution_count": 31,
      "outputs": [
        {
          "output_type": "stream",
          "name": "stdout",
          "text": [
            "<class 'pandas.core.frame.DataFrame'>\n",
            "RangeIndex: 14 entries, 0 to 13\n",
            "Data columns (total 3 columns):\n",
            " #   Column  Non-Null Count  Dtype  \n",
            "---  ------  --------------  -----  \n",
            " 0   Região  14 non-null     object \n",
            " 1   Cap II  6 non-null      float64\n",
            " 2   Total   6 non-null      float64\n",
            "dtypes: float64(2), object(1)\n",
            "memory usage: 468.0+ bytes\n",
            "None\n",
            "                  Região    Cap II     Total\n",
            "0         1 Região Norte   12887.0   12887.0\n",
            "1      2 Região Nordeste   54548.0   54548.0\n",
            "2       3 Região Sudeste  113545.0  113545.0\n",
            "3           4 Região Sul   46762.0   46762.0\n",
            "4  5 Região Centro-Oeste   16267.0   16267.0\n"
          ]
        }
      ]
    },
    {
      "cell_type": "code",
      "source": [
        "# Renomear colunas\n",
        "tumores_2022.columns = ['Região', 'Capítulo', 'Óbitos']\n",
        "\n",
        "tumores_2022 = tumores_2022.dropna(subset=['Óbitos'])"
      ],
      "metadata": {
        "id": "EWmFzm7X6ati"
      },
      "execution_count": 32,
      "outputs": []
    },
    {
      "cell_type": "markdown",
      "source": [
        "Informações básicas de Neoplasia (Tumores) em 2021 e renomeando colunas para facilitar a visualização:"
      ],
      "metadata": {
        "id": "FlP7N6j738EV"
      }
    },
    {
      "cell_type": "code",
      "source": [
        "# Visualizar informações básicas\n",
        "print(tumores_2021.info())\n",
        "print(tumores_2021.head())"
      ],
      "metadata": {
        "id": "vPkLeTEo38SY",
        "colab": {
          "base_uri": "https://localhost:8080/"
        },
        "outputId": "ee5705fc-49c9-4863-a44f-2e64730c516e"
      },
      "execution_count": 33,
      "outputs": [
        {
          "output_type": "stream",
          "name": "stdout",
          "text": [
            "<class 'pandas.core.frame.DataFrame'>\n",
            "RangeIndex: 14 entries, 0 to 13\n",
            "Data columns (total 3 columns):\n",
            " #   Column  Non-Null Count  Dtype  \n",
            "---  ------  --------------  -----  \n",
            " 0   Região  14 non-null     object \n",
            " 1   Cap II  6 non-null      float64\n",
            " 2   Total   6 non-null      float64\n",
            "dtypes: float64(2), object(1)\n",
            "memory usage: 468.0+ bytes\n",
            "None\n",
            "                  Região    Cap II     Total\n",
            "0         1 Região Norte   12156.0   12156.0\n",
            "1      2 Região Nordeste   52810.0   52810.0\n",
            "2       3 Região Sudeste  110148.0  110148.0\n",
            "3           4 Região Sul   44989.0   44989.0\n",
            "4  5 Região Centro-Oeste   15702.0   15702.0\n"
          ]
        }
      ]
    },
    {
      "cell_type": "code",
      "source": [
        "# Renomear colunas\n",
        "tumores_2021.columns = ['Região', 'Capítulo', 'Óbitos']\n",
        "\n",
        "tumores_2021 = tumores_2021.dropna(subset=['Óbitos'])"
      ],
      "metadata": {
        "id": "DLL9sLpk6bgn"
      },
      "execution_count": 34,
      "outputs": []
    },
    {
      "cell_type": "markdown",
      "source": [
        "Informações básicas de Neoplasia (Tumores) em 2020 e renomeando colunas para facilitar a visualização:"
      ],
      "metadata": {
        "id": "RAuV-MYB38fD"
      }
    },
    {
      "cell_type": "code",
      "source": [
        "# Visualizar informações básicas\n",
        "print(tumores_2020.info())\n",
        "print(tumores_2020.head())"
      ],
      "metadata": {
        "colab": {
          "base_uri": "https://localhost:8080/"
        },
        "id": "USY2lyj238so",
        "outputId": "ac8c24df-b582-47da-af26-444b27676220",
        "collapsed": true
      },
      "execution_count": 35,
      "outputs": [
        {
          "output_type": "stream",
          "name": "stdout",
          "text": [
            "<class 'pandas.core.frame.DataFrame'>\n",
            "RangeIndex: 14 entries, 0 to 13\n",
            "Data columns (total 3 columns):\n",
            " #   Column  Non-Null Count  Dtype  \n",
            "---  ------  --------------  -----  \n",
            " 0   Região  14 non-null     object \n",
            " 1   Cap II  6 non-null      float64\n",
            " 2   Total   6 non-null      float64\n",
            "dtypes: float64(2), object(1)\n",
            "memory usage: 468.0+ bytes\n",
            "None\n",
            "                  Região    Cap II     Total\n",
            "0         1 Região Norte   11777.0   11777.0\n",
            "1      2 Região Nordeste   51705.0   51705.0\n",
            "2       3 Região Sudeste  106972.0  106972.0\n",
            "3           4 Região Sul   43480.0   43480.0\n",
            "4  5 Região Centro-Oeste   15366.0   15366.0\n"
          ]
        }
      ]
    },
    {
      "cell_type": "code",
      "source": [
        "# Renomear colunas\n",
        "tumores_2020.columns = ['Região', 'Capítulo', 'Óbitos']\n",
        "\n",
        "tumores_2020 = tumores_2020.dropna(subset=['Óbitos'])"
      ],
      "metadata": {
        "id": "J3QZL7UW5x_Y"
      },
      "execution_count": 36,
      "outputs": []
    },
    {
      "cell_type": "markdown",
      "source": [
        "## Criando gráficos:"
      ],
      "metadata": {
        "id": "F-xhzhD06ebU"
      }
    },
    {
      "cell_type": "markdown",
      "source": [
        "Gráfico infecciosas 2023:"
      ],
      "metadata": {
        "id": "0znSSFvT71qq"
      }
    },
    {
      "cell_type": "code",
      "source": [
        "# Criar o gráfico\n",
        "sns.barplot(x='Região', y='Óbitos', data=infecciosas_2023)\n",
        "plt.xticks(rotation=45)\n",
        "plt.show()"
      ],
      "metadata": {
        "colab": {
          "base_uri": "https://localhost:8080/",
          "height": 557
        },
        "collapsed": true,
        "id": "dVFr4R4DkfNu",
        "outputId": "56e3732b-492a-465f-96f3-ea92f82b9db5"
      },
      "execution_count": 37,
      "outputs": [
        {
          "output_type": "display_data",
          "data": {
            "text/plain": [
              "<Figure size 640x480 with 1 Axes>"
            ],
            "image/png": "[encoded data removed]"
          },
          "metadata": {}
        }
      ]
    },
    {
      "cell_type": "markdown",
      "source": [
        "Gráfico infecciosas 2022:"
      ],
      "metadata": {
        "id": "TNkrPe-o9pv5"
      }
    },
    {
      "cell_type": "code",
      "source": [
        "# Criar o gráfico\n",
        "sns.barplot(x='Região', y='Óbitos', data=infecciosas_2022)\n",
        "plt.xticks(rotation=45)\n",
        "plt.show()"
      ],
      "metadata": {
        "id": "GsqZfuWI9ozk",
        "colab": {
          "base_uri": "https://localhost:8080/",
          "height": 557
        },
        "outputId": "6022eed8-0a25-45e2-8ef7-9c9f23931213"
      },
      "execution_count": 38,
      "outputs": [
        {
          "output_type": "display_data",
          "data": {
            "text/plain": [
              "<Figure size 640x480 with 1 Axes>"
            ],
            "image/png": "[encoded data removed]"
          },
          "metadata": {}
        }
      ]
    },
    {
      "cell_type": "markdown",
      "source": [
        "Gráfico infecciosas 2021:"
      ],
      "metadata": {
        "id": "b7hiwdP49wL1"
      }
    },
    {
      "cell_type": "code",
      "source": [
        "# Criar o gráfico\n",
        "sns.barplot(x='Região', y='Óbitos', data=infecciosas_2021)\n",
        "plt.xticks(rotation=45)\n",
        "plt.show()"
      ],
      "metadata": {
        "id": "nAzDbGCF_mOr",
        "colab": {
          "base_uri": "https://localhost:8080/",
          "height": 557
        },
        "outputId": "c43a0954-8faa-4297-b24e-16982bb48e4b"
      },
      "execution_count": 39,
      "outputs": [
        {
          "output_type": "display_data",
          "data": {
            "text/plain": [
              "<Figure size 640x480 with 1 Axes>"
            ],
            "image/png": "[encoded data removed]"
          },
          "metadata": {}
        }
      ]
    },
    {
      "cell_type": "markdown",
      "source": [
        "Gráfico infecciosas 2020:"
      ],
      "metadata": {
        "id": "NE-CdeSE9xL_"
      }
    },
    {
      "cell_type": "code",
      "source": [
        "# Criar o gráfico\n",
        "sns.barplot(x='Região', y='Óbitos', data=infecciosas_2020)\n",
        "plt.xticks(rotation=45)\n",
        "plt.show()"
      ],
      "metadata": {
        "id": "dyU5I9Yu_nxS"
      },
      "execution_count": null,
      "outputs": []
    },
    {
      "cell_type": "markdown",
      "source": [
        "Gráfico oculares 2023:"
      ],
      "metadata": {
        "id": "Uvmkjsju90JJ"
      }
    },
    {
      "cell_type": "code",
      "source": [
        "# Criar o gráfico\n",
        "sns.barplot(x='Região', y='Óbitos', data=oculares_2023)\n",
        "plt.xticks(rotation=45)\n",
        "plt.show()"
      ],
      "metadata": {
        "id": "Enj4e6hv_uC-",
        "colab": {
          "base_uri": "https://localhost:8080/",
          "height": 557
        },
        "outputId": "4965d2a5-9009-494b-987e-2b7f140880fd"
      },
      "execution_count": 75,
      "outputs": [
        {
          "output_type": "display_data",
          "data": {
            "text/plain": [
              "<Figure size 640x480 with 1 Axes>"
            ],
            "image/png": "[encoded data removed]"
          },
          "metadata": {}
        }
      ]
    },
    {
      "cell_type": "markdown",
      "source": [
        "Gráfico oculares 2022:"
      ],
      "metadata": {
        "id": "3ojyYa3E94GB"
      }
    },
    {
      "cell_type": "code",
      "source": [
        "# Criar o gráfico\n",
        "sns.barplot(x='Região', y='Óbitos', data=oculares_2022)\n",
        "plt.xticks(rotation=45)\n",
        "plt.show()"
      ],
      "metadata": {
        "id": "-GKpQN3O_zDe"
      },
      "execution_count": null,
      "outputs": []
    },
    {
      "cell_type": "markdown",
      "source": [
        "Gráfico oculares 2021:"
      ],
      "metadata": {
        "id": "7pW-0h-z94sn"
      }
    },
    {
      "cell_type": "code",
      "source": [
        "# Criar o gráfico\n",
        "sns.barplot(x='Região', y='Óbitos', data=oculares_2021)\n",
        "plt.xticks(rotation=45)\n",
        "plt.show()"
      ],
      "metadata": {
        "id": "mOkj10iE_064"
      },
      "execution_count": null,
      "outputs": []
    },
    {
      "cell_type": "markdown",
      "source": [
        "Gráfico oculares 2020:"
      ],
      "metadata": {
        "id": "C3C5f_Nv95dD"
      }
    },
    {
      "cell_type": "code",
      "source": [
        "# Criar o gráfico\n",
        "sns.barplot(x='Região', y='Óbitos', data=oculares_2020)\n",
        "plt.xticks(rotation=45)\n",
        "plt.show()"
      ],
      "metadata": {
        "id": "Ta-mULP__2dq"
      },
      "execution_count": null,
      "outputs": []
    },
    {
      "cell_type": "markdown",
      "source": [
        "Gráfico tumores 2023:"
      ],
      "metadata": {
        "id": "T7-n30m698g0"
      }
    },
    {
      "cell_type": "code",
      "source": [
        "# Criar o gráfico\n",
        "sns.barplot(x='Região', y='Óbitos', data=tumores_2023)\n",
        "plt.xticks(rotation=45)\n",
        "plt.show()"
      ],
      "metadata": {
        "id": "qcIFJ2SQ_4hU"
      },
      "execution_count": null,
      "outputs": []
    },
    {
      "cell_type": "markdown",
      "source": [
        "Gráfico tumores 2022:"
      ],
      "metadata": {
        "id": "bTxvty6b-ADr"
      }
    },
    {
      "cell_type": "code",
      "source": [
        "# Criar o gráfico\n",
        "sns.barplot(x='Região', y='Óbitos', data=tumores_2022)\n",
        "plt.xticks(rotation=45)\n",
        "plt.show()"
      ],
      "metadata": {
        "id": "TN6hrq6i_9yJ"
      },
      "execution_count": null,
      "outputs": []
    },
    {
      "cell_type": "markdown",
      "source": [
        "Gráfico tumores 2021:"
      ],
      "metadata": {
        "id": "YZmeNCI3-Ayv"
      }
    },
    {
      "cell_type": "code",
      "source": [
        "# Criar o gráfico\n",
        "sns.barplot(x='Região', y='Óbitos', data=tumores_2021)\n",
        "plt.xticks(rotation=45)\n",
        "plt.show()"
      ],
      "metadata": {
        "id": "9H-d7FNG__ti",
        "colab": {
          "base_uri": "https://localhost:8080/",
          "height": 557
        },
        "outputId": "c2ade847-f42b-49fb-d04b-614435f7f340"
      },
      "execution_count": 76,
      "outputs": [
        {
          "output_type": "display_data",
          "data": {
            "text/plain": [
              "<Figure size 640x480 with 1 Axes>"
            ],
            "image/png": "[encoded data removed]"
          },
          "metadata": {}
        }
      ]
    },
    {
      "cell_type": "markdown",
      "source": [
        "Gráfico tumores 2020:"
      ],
      "metadata": {
        "id": "6kTOC4Gw-BjU"
      }
    },
    {
      "cell_type": "code",
      "source": [
        "# Criar o gráfico\n",
        "sns.barplot(x='Região', y='Óbitos', data=tumores_2020)\n",
        "plt.xticks(rotation=45)\n",
        "plt.show()"
      ],
      "metadata": {
        "colab": {
          "base_uri": "https://localhost:8080/",
          "height": 557
        },
        "collapsed": true,
        "id": "1g-o4XUfABre",
        "outputId": "d343b8cc-b4eb-4509-dcb4-774219ce33ed"
      },
      "execution_count": null,
      "outputs": [
        {
          "output_type": "display_data",
          "data": {
            "text/plain": [
              "<Figure size 640x480 with 1 Axes>"
            ],
            "image/png": "[encoded data removed]"
          },
          "metadata": {}
        }
      ]
    },
    {
      "cell_type": "markdown",
      "source": [
        "## Descrições das métricas de cada ano para cada CID"
      ],
      "metadata": {
        "id": "7seq8O3SC1NL"
      }
    },
    {
      "cell_type": "markdown",
      "source": [
        "Descrição infecciosas 2023:"
      ],
      "metadata": {
        "id": "ceDGhYtYC8eT"
      }
    },
    {
      "cell_type": "code",
      "source": [
        "print(infecciosas_2023.describe())\n"
      ],
      "metadata": {
        "colab": {
          "base_uri": "https://localhost:8080/"
        },
        "id": "uBJf6WgQpfcR",
        "outputId": "566eae27-ed73-4ee4-cc6e-7730c623bde9"
      },
      "execution_count": 11,
      "outputs": [
        {
          "output_type": "stream",
          "name": "stdout",
          "text": [
            "              Cap I         Total\n",
            "count      6.000000      6.000000\n",
            "mean   24480.666667  24480.666667\n",
            "std    26380.050915  26380.050915\n",
            "min     5011.000000   5011.000000\n",
            "25%     6567.000000   6567.000000\n",
            "50%    14342.000000  14342.000000\n",
            "75%    30414.250000  30414.250000\n",
            "max    73442.000000  73442.000000\n"
          ]
        }
      ]
    },
    {
      "cell_type": "markdown",
      "source": [
        "Descrição infecciosas 2022:"
      ],
      "metadata": {
        "id": "Cw9OWrbzDCAt"
      }
    },
    {
      "cell_type": "code",
      "source": [
        "print(infecciosas_2022.describe())"
      ],
      "metadata": {
        "colab": {
          "base_uri": "https://localhost:8080/"
        },
        "id": "GXEfa-t6DZh3",
        "outputId": "6e6fcac7-5063-4b73-a7b7-e93a181bddfa",
        "collapsed": true
      },
      "execution_count": null,
      "outputs": [
        {
          "output_type": "stream",
          "name": "stdout",
          "text": [
            "               Cap I          Total\n",
            "count       6.000000       6.000000\n",
            "mean    43933.333333   43933.333333\n",
            "std     47242.311453   47242.311453\n",
            "min      8984.000000    8984.000000\n",
            "25%     12497.000000   12497.000000\n",
            "50%     25470.000000   25470.000000\n",
            "75%     54145.000000   54145.000000\n",
            "max    131800.000000  131800.000000\n"
          ]
        }
      ]
    },
    {
      "cell_type": "markdown",
      "source": [
        "Descrição infecciosas 2021:"
      ],
      "metadata": {
        "id": "VJ-WjvtJDC4A"
      }
    },
    {
      "cell_type": "code",
      "source": [
        "print(infecciosas_2021.describe())"
      ],
      "metadata": {
        "id": "vSGPh1DMDbCr",
        "colab": {
          "base_uri": "https://localhost:8080/"
        },
        "collapsed": true,
        "outputId": "a3447137-333c-4e38-d5f9-6257fe388365"
      },
      "execution_count": 77,
      "outputs": [
        {
          "output_type": "stream",
          "name": "stdout",
          "text": [
            "            Capítulo         Óbitos       z_score\n",
            "count       6.000000       6.000000  6.000000e+00\n",
            "mean   162222.333333  162222.333333 -1.480297e-16\n",
            "std    173786.763866  173786.763866  1.095445e+00\n",
            "min     35680.000000   35680.000000 -7.976452e-01\n",
            "25%     54213.250000   54213.250000 -6.808230e-01\n",
            "50%     87670.500000   87670.500000 -4.699290e-01\n",
            "75%    196356.500000  196356.500000  2.151608e-01\n",
            "max    486667.000000  486667.000000  2.045100e+00\n"
          ]
        }
      ]
    },
    {
      "cell_type": "markdown",
      "source": [
        "Descrição infecciosas 2020:"
      ],
      "metadata": {
        "id": "4ChrZT3hDDq3"
      }
    },
    {
      "cell_type": "code",
      "source": [
        "print(infecciosas_2020.describe())"
      ],
      "metadata": {
        "id": "RCsjGxGlDcuh",
        "colab": {
          "base_uri": "https://localhost:8080/"
        },
        "collapsed": true,
        "outputId": "a247b454-a2dc-48c5-fffa-ca19d1aff713"
      },
      "execution_count": null,
      "outputs": [
        {
          "output_type": "stream",
          "name": "stdout",
          "text": [
            "               Cap I          Total\n",
            "count       6.000000       6.000000\n",
            "mean    89095.666667   89095.666667\n",
            "std     95466.607703   95466.607703\n",
            "min     21120.000000   21120.000000\n",
            "25%     25653.750000   25653.750000\n",
            "50%     49751.500000   49751.500000\n",
            "75%    109220.000000  109220.000000\n",
            "max    267287.000000  267287.000000\n"
          ]
        }
      ]
    },
    {
      "cell_type": "markdown",
      "source": [
        "Descrição oculares 2023:"
      ],
      "metadata": {
        "id": "_kwt7sgaDIFj"
      }
    },
    {
      "cell_type": "code",
      "source": [
        "print(oculares_2023.describe())"
      ],
      "metadata": {
        "id": "QIiSwxXTD1Mx"
      },
      "execution_count": null,
      "outputs": []
    },
    {
      "cell_type": "markdown",
      "source": [
        "Descrição oculares 2022:"
      ],
      "metadata": {
        "id": "PYtv8PKjDLmn"
      }
    },
    {
      "cell_type": "code",
      "source": [
        "print(oculares_2022.describe())"
      ],
      "metadata": {
        "id": "GGxvnDGFD7As"
      },
      "execution_count": null,
      "outputs": []
    },
    {
      "cell_type": "markdown",
      "source": [
        "Descrição oculares 2021:"
      ],
      "metadata": {
        "id": "jhsT66QaDMOF"
      }
    },
    {
      "cell_type": "code",
      "source": [
        "print(oculares_2021.describe())"
      ],
      "metadata": {
        "id": "a6EJ-oYCD8Y6"
      },
      "execution_count": null,
      "outputs": []
    },
    {
      "cell_type": "markdown",
      "source": [
        "Descrição oculares 2020:"
      ],
      "metadata": {
        "id": "u8KkpfLIDM6L"
      }
    },
    {
      "cell_type": "code",
      "source": [
        "print(oculares_2020.describe())"
      ],
      "metadata": {
        "id": "njJ9iWxcD9Ev",
        "colab": {
          "base_uri": "https://localhost:8080/"
        },
        "outputId": "051ac470-e79c-454d-f76b-c56ab73a9d07"
      },
      "execution_count": 78,
      "outputs": [
        {
          "output_type": "stream",
          "name": "stdout",
          "text": [
            "        Capítulo     Óbitos       z_score\n",
            "count   5.000000   5.000000  5.000000e+00\n",
            "mean    9.600000   9.600000  8.881784e-17\n",
            "std     9.016651   9.016651  1.118034e+00\n",
            "min     1.000000   1.000000 -1.066371e+00\n",
            "25%     3.000000   3.000000 -8.183775e-01\n",
            "50%    10.000000  10.000000  4.959864e-02\n",
            "75%    10.000000  10.000000  4.959864e-02\n",
            "max    24.000000  24.000000  1.785551e+00\n"
          ]
        }
      ]
    },
    {
      "cell_type": "markdown",
      "source": [
        "Descrição tumores 2023:"
      ],
      "metadata": {
        "id": "_W-PW_Q7DPd8"
      }
    },
    {
      "cell_type": "code",
      "source": [
        "print(tumores_2023.describe())"
      ],
      "metadata": {
        "id": "U0SRU9VRD9tg"
      },
      "execution_count": null,
      "outputs": []
    },
    {
      "cell_type": "markdown",
      "source": [
        "Descrição tumores 2022:"
      ],
      "metadata": {
        "id": "lGKZ06IdDR97"
      }
    },
    {
      "cell_type": "code",
      "source": [
        "print(tumores_2022.describe())"
      ],
      "metadata": {
        "id": "vSdr_pbCECCk"
      },
      "execution_count": null,
      "outputs": []
    },
    {
      "cell_type": "markdown",
      "source": [
        "Descrição tumores 2021:"
      ],
      "metadata": {
        "id": "4CPbz3mrDShR"
      }
    },
    {
      "cell_type": "code",
      "source": [
        "print(tumores_2021.describe())"
      ],
      "metadata": {
        "id": "a02c3CT-ECwA"
      },
      "execution_count": null,
      "outputs": []
    },
    {
      "cell_type": "markdown",
      "source": [
        "Descrição tumores 2020:"
      ],
      "metadata": {
        "id": "p331TdAgDTAn"
      }
    },
    {
      "cell_type": "code",
      "source": [
        "print(tumores_2020.describe())"
      ],
      "metadata": {
        "id": "JU9uSmgEEDlk"
      },
      "execution_count": null,
      "outputs": []
    },
    {
      "cell_type": "markdown",
      "source": [],
      "metadata": {
        "id": "BdSQX88pEQpA"
      }
    },
    {
      "cell_type": "code",
      "source": [
        "from scipy.stats import zscore\n",
        "\n",
        "infecciosas_2023['z_score'] = zscore(infecciosas_2023['Óbitos'])\n",
        "outliers = infecciosas_2023[infecciosas_2023['z_score'].abs() > 3]\n",
        "print(outliers)\n",
        "\n"
      ],
      "metadata": {
        "colab": {
          "base_uri": "https://localhost:8080/"
        },
        "id": "jr4tR48Ppui2",
        "outputId": "c0b055db-a229-4846-c390-783a359aac5b"
      },
      "execution_count": 40,
      "outputs": [
        {
          "output_type": "stream",
          "name": "stdout",
          "text": [
            "Empty DataFrame\n",
            "Columns: [Região, Capítulo, Óbitos, z_score]\n",
            "Index: []\n"
          ]
        },
        {
          "output_type": "stream",
          "name": "stderr",
          "text": [
            "<ipython-input-40-a72f5b422df4>:3: SettingWithCopyWarning: \n",
            "A value is trying to be set on a copy of a slice from a DataFrame.\n",
            "Try using .loc[row_indexer,col_indexer] = value instead\n",
            "\n",
            "See the caveats in the documentation: https://pandas.pydata.org/pandas-docs/stable/user_guide/indexing.html#returning-a-view-versus-a-copy\n",
            "  infecciosas_2023['z_score'] = zscore(infecciosas_2023['Óbitos'])\n"
          ]
        }
      ]
    },
    {
      "cell_type": "markdown",
      "source": [],
      "metadata": {
        "id": "x4a-QVPzFCP_"
      }
    },
    {
      "cell_type": "code",
      "source": [
        "from scipy.stats import zscore\n",
        "\n",
        "infecciosas_2022['z_score'] = zscore(infecciosas_2022['Óbitos'])\n",
        "outliers = infecciosas_2022[infecciosas_2022['z_score'].abs() > 3]\n",
        "print(outliers)"
      ],
      "metadata": {
        "id": "PYQPwZSaFDLg",
        "colab": {
          "base_uri": "https://localhost:8080/"
        },
        "outputId": "2f08116c-b53b-43d0-d63a-1d9854cf0bf5"
      },
      "execution_count": 41,
      "outputs": [
        {
          "output_type": "stream",
          "name": "stdout",
          "text": [
            "Empty DataFrame\n",
            "Columns: [Região, Capítulo, Óbitos, z_score]\n",
            "Index: []\n"
          ]
        }
      ]
    },
    {
      "cell_type": "markdown",
      "source": [],
      "metadata": {
        "id": "IgJ0hUuyFD0U"
      }
    },
    {
      "cell_type": "code",
      "source": [
        "from scipy.stats import zscore\n",
        "\n",
        "infecciosas_2021['z_score'] = zscore(infecciosas_2021['Óbitos'])\n",
        "outliers = infecciosas_2021[infecciosas_2021['z_score'].abs() > 3]\n",
        "print(outliers)"
      ],
      "metadata": {
        "id": "LOAInpSEFENf",
        "colab": {
          "base_uri": "https://localhost:8080/"
        },
        "outputId": "d295662e-9db4-4695-8986-07969bcb3020"
      },
      "execution_count": 42,
      "outputs": [
        {
          "output_type": "stream",
          "name": "stdout",
          "text": [
            "Empty DataFrame\n",
            "Columns: [Região, Capítulo, Óbitos, z_score]\n",
            "Index: []\n"
          ]
        }
      ]
    },
    {
      "cell_type": "markdown",
      "source": [],
      "metadata": {
        "id": "vlyPPpu3FE6I"
      }
    },
    {
      "cell_type": "code",
      "source": [
        "from scipy.stats import zscore\n",
        "\n",
        "infecciosas_2020['z_score'] = zscore(infecciosas_2020['Óbitos'])\n",
        "outliers = infecciosas_2020[infecciosas_2020['z_score'].abs() > 3]\n",
        "print(outliers)"
      ],
      "metadata": {
        "id": "P_awJH3CFFYk",
        "colab": {
          "base_uri": "https://localhost:8080/"
        },
        "outputId": "243fbf0a-2a6b-4a2d-e9c9-a41237dc1a4c"
      },
      "execution_count": 43,
      "outputs": [
        {
          "output_type": "stream",
          "name": "stdout",
          "text": [
            "Empty DataFrame\n",
            "Columns: [Região, Capítulo, Óbitos, z_score]\n",
            "Index: []\n"
          ]
        }
      ]
    },
    {
      "cell_type": "markdown",
      "source": [],
      "metadata": {
        "id": "h3na5kAoFFv_"
      }
    },
    {
      "cell_type": "code",
      "source": [
        "from scipy.stats import zscore\n",
        "\n",
        "oculares_2023['z_score'] = zscore(oculares_2023['Óbitos'])\n",
        "outliers = oculares_2023[oculares_2023['z_score'].abs() > 3]\n",
        "print(outliers)"
      ],
      "metadata": {
        "id": "1M6vBOgfFGwE",
        "colab": {
          "base_uri": "https://localhost:8080/"
        },
        "outputId": "685bc00e-ce4f-4736-ed30-5d5a33905343"
      },
      "execution_count": 44,
      "outputs": [
        {
          "output_type": "stream",
          "name": "stdout",
          "text": [
            "Empty DataFrame\n",
            "Columns: [Região, Capítulo, Óbitos, z_score]\n",
            "Index: []\n"
          ]
        }
      ]
    },
    {
      "cell_type": "markdown",
      "source": [],
      "metadata": {
        "id": "-e8ww49fFlG4"
      }
    },
    {
      "cell_type": "code",
      "source": [
        "from scipy.stats import zscore\n",
        "\n",
        "oculares_2022['z_score'] = zscore(oculares_2022['Óbitos'])\n",
        "outliers = oculares_2022[oculares_2022['z_score'].abs() > 3]\n",
        "print(outliers)"
      ],
      "metadata": {
        "id": "xbz3YuhUFlw7",
        "colab": {
          "base_uri": "https://localhost:8080/"
        },
        "outputId": "af3f5939-f244-4121-bc61-a3f38ffc41a1"
      },
      "execution_count": 45,
      "outputs": [
        {
          "output_type": "stream",
          "name": "stdout",
          "text": [
            "Empty DataFrame\n",
            "Columns: [Região, Capítulo, Óbitos, z_score]\n",
            "Index: []\n"
          ]
        }
      ]
    },
    {
      "cell_type": "markdown",
      "source": [],
      "metadata": {
        "id": "NHYYjJkGFqD_"
      }
    },
    {
      "cell_type": "code",
      "source": [
        "from scipy.stats import zscore\n",
        "\n",
        "oculares_2021['z_score'] = zscore(oculares_2021['Óbitos'])\n",
        "outliers = oculares_2021[oculares_2021['z_score'].abs() > 3]\n",
        "print(outliers)"
      ],
      "metadata": {
        "id": "II6uGrBxFqxL",
        "colab": {
          "base_uri": "https://localhost:8080/"
        },
        "outputId": "f30545e7-a4de-4496-bceb-36788c56b312"
      },
      "execution_count": 46,
      "outputs": [
        {
          "output_type": "stream",
          "name": "stdout",
          "text": [
            "Empty DataFrame\n",
            "Columns: [Região, Capítulo, Óbitos, z_score]\n",
            "Index: []\n"
          ]
        }
      ]
    },
    {
      "cell_type": "markdown",
      "source": [],
      "metadata": {
        "id": "VWqC290WFrLN"
      }
    },
    {
      "cell_type": "code",
      "source": [
        "from scipy.stats import zscore\n",
        "\n",
        "oculares_2020['z_score'] = zscore(oculares_2020['Óbitos'])\n",
        "outliers = oculares_2020[oculares_2020['z_score'].abs() > 3]\n",
        "print(outliers)"
      ],
      "metadata": {
        "id": "Gsz9swZRFrkZ",
        "colab": {
          "base_uri": "https://localhost:8080/"
        },
        "outputId": "4b371242-acd8-4c86-810c-42accf7c6ffc"
      },
      "execution_count": 47,
      "outputs": [
        {
          "output_type": "stream",
          "name": "stdout",
          "text": [
            "Empty DataFrame\n",
            "Columns: [Região, Capítulo, Óbitos, z_score]\n",
            "Index: []\n"
          ]
        }
      ]
    },
    {
      "cell_type": "markdown",
      "source": [],
      "metadata": {
        "id": "m1gQpVc7F1Sz"
      }
    },
    {
      "cell_type": "code",
      "source": [
        "from scipy.stats import zscore\n",
        "\n",
        "tumores_2023['z_score'] = zscore(tumores_2023['Óbitos'])\n",
        "outliers = tumores_2023[tumores_2023['z_score'].abs() > 3]\n",
        "print(outliers)"
      ],
      "metadata": {
        "id": "T5w5Uy2yF1ta"
      },
      "execution_count": null,
      "outputs": []
    },
    {
      "cell_type": "markdown",
      "source": [],
      "metadata": {
        "id": "ES8Kxtd9F9e5"
      }
    },
    {
      "cell_type": "code",
      "source": [
        "from scipy.stats import zscore\n",
        "\n",
        "tumores_2022['z_score'] = zscore(tumores_2022['Óbitos'])\n",
        "outliers = tumores_2022[tumores_2022['z_score'].abs() > 3]\n",
        "print(outliers)"
      ],
      "metadata": {
        "id": "Q90QdqGyF9xy"
      },
      "execution_count": null,
      "outputs": []
    },
    {
      "cell_type": "markdown",
      "source": [],
      "metadata": {
        "id": "Q8DSIZY-F-MD"
      }
    },
    {
      "cell_type": "code",
      "source": [
        "from scipy.stats import zscore\n",
        "\n",
        "tumores_2021['z_score'] = zscore(tumores_2021['Óbitos'])\n",
        "outliers = tumores_2021[tumores_2021['z_score'].abs() > 3]\n",
        "print(outliers)"
      ],
      "metadata": {
        "id": "orzOhn0lF-dG"
      },
      "execution_count": null,
      "outputs": []
    },
    {
      "cell_type": "markdown",
      "source": [],
      "metadata": {
        "id": "n6W638EtF-2w"
      }
    },
    {
      "cell_type": "code",
      "source": [
        "from scipy.stats import zscore\n",
        "\n",
        "tumores_2020['z_score'] = zscore(tumores_2020['Óbitos'])\n",
        "outliers = tumores_2020[tumores_2020['z_score'].abs() > 3]\n",
        "print(outliers)"
      ],
      "metadata": {
        "id": "DncqWnH9F_GI"
      },
      "execution_count": null,
      "outputs": []
    },
    {
      "cell_type": "markdown",
      "source": [],
      "metadata": {
        "id": "o4SpuSuDGRf6"
      }
    },
    {
      "cell_type": "code",
      "source": [
        "print(infecciosas_2023.duplicated().sum())\n"
      ],
      "metadata": {
        "colab": {
          "base_uri": "https://localhost:8080/"
        },
        "id": "2sVhDeaDqDet",
        "outputId": "d888dfe5-bc62-4214-d685-aa3c98de412c"
      },
      "execution_count": null,
      "outputs": [
        {
          "output_type": "stream",
          "name": "stdout",
          "text": [
            "0\n"
          ]
        }
      ]
    },
    {
      "cell_type": "markdown",
      "source": [],
      "metadata": {
        "id": "auv1v4UtGXeW"
      }
    },
    {
      "cell_type": "code",
      "source": [
        "print(infecciosas_2022.duplicated().sum())"
      ],
      "metadata": {
        "id": "FFawnOQAGX5U"
      },
      "execution_count": null,
      "outputs": []
    },
    {
      "cell_type": "markdown",
      "source": [],
      "metadata": {
        "id": "wCLhIMN0GYlp"
      }
    },
    {
      "cell_type": "code",
      "source": [
        "print(infecciosas_2021.duplicated().sum())"
      ],
      "metadata": {
        "id": "-DEQaPQGGZDH"
      },
      "execution_count": null,
      "outputs": []
    },
    {
      "cell_type": "markdown",
      "source": [],
      "metadata": {
        "id": "U5AxbIt_GZck"
      }
    },
    {
      "cell_type": "code",
      "source": [
        "print(infecciosas_2020.duplicated().sum())"
      ],
      "metadata": {
        "id": "tUieMKEGGZ3K"
      },
      "execution_count": null,
      "outputs": []
    },
    {
      "cell_type": "markdown",
      "source": [],
      "metadata": {
        "id": "gNHZdh80GaOq"
      }
    },
    {
      "cell_type": "code",
      "source": [
        "print(oculares_2023.duplicated().sum())"
      ],
      "metadata": {
        "id": "8FeVTrOiGape"
      },
      "execution_count": null,
      "outputs": []
    },
    {
      "cell_type": "markdown",
      "source": [],
      "metadata": {
        "id": "blm7hzm5GkKq"
      }
    },
    {
      "cell_type": "code",
      "source": [
        "print(oculares_2022.duplicated().sum())"
      ],
      "metadata": {
        "id": "AiSAPvGiGkkY"
      },
      "execution_count": null,
      "outputs": []
    },
    {
      "cell_type": "markdown",
      "source": [],
      "metadata": {
        "id": "VqzK8lBiGlMD"
      }
    },
    {
      "cell_type": "code",
      "source": [
        "print(oculares_2021.duplicated().sum())"
      ],
      "metadata": {
        "id": "6HAb_Z1WGljw"
      },
      "execution_count": null,
      "outputs": []
    },
    {
      "cell_type": "markdown",
      "source": [],
      "metadata": {
        "id": "tNLAj1H8GmEd"
      }
    },
    {
      "cell_type": "code",
      "source": [
        "print(oculares_2020.duplicated().sum())"
      ],
      "metadata": {
        "id": "tqYXddURGmb8"
      },
      "execution_count": null,
      "outputs": []
    },
    {
      "cell_type": "markdown",
      "source": [],
      "metadata": {
        "id": "YghelynEGnJh"
      }
    },
    {
      "cell_type": "code",
      "source": [
        "print(tumores_2023.duplicated().sum())"
      ],
      "metadata": {
        "id": "fbQXyTmxGsAX"
      },
      "execution_count": null,
      "outputs": []
    },
    {
      "cell_type": "markdown",
      "source": [],
      "metadata": {
        "id": "jYF7gNeFGvLT"
      }
    },
    {
      "cell_type": "code",
      "source": [
        "print(tumores_2022.duplicated().sum())"
      ],
      "metadata": {
        "id": "-2E-pU-KGvjB"
      },
      "execution_count": null,
      "outputs": []
    },
    {
      "cell_type": "markdown",
      "source": [],
      "metadata": {
        "id": "E8UXXmxNGwGP"
      }
    },
    {
      "cell_type": "code",
      "source": [
        "print(tumores_2021.duplicated().sum())"
      ],
      "metadata": {
        "id": "eYJ9J7syGwx-"
      },
      "execution_count": null,
      "outputs": []
    },
    {
      "cell_type": "markdown",
      "source": [],
      "metadata": {
        "id": "l2KxWEe-GxHF"
      }
    },
    {
      "cell_type": "code",
      "source": [
        "print(tumores_2020.duplicated().sum())"
      ],
      "metadata": {
        "id": "wAAMUZ8vGxvW"
      },
      "execution_count": null,
      "outputs": []
    },
    {
      "cell_type": "markdown",
      "source": [],
      "metadata": {
        "id": "mQsSmi1wGyfZ"
      }
    },
    {
      "cell_type": "code",
      "source": [
        "print(infecciosas_2023.isnull().sum())"
      ],
      "metadata": {
        "colab": {
          "base_uri": "https://localhost:8080/"
        },
        "id": "NXXuspdGqF_L",
        "outputId": "2dc89723-7caa-42fa-b272-5cedbd2a1c6d",
        "collapsed": true
      },
      "execution_count": null,
      "outputs": [
        {
          "output_type": "stream",
          "name": "stdout",
          "text": [
            "Região      0\n",
            "Capítulo    0\n",
            "Óbitos      0\n",
            "z_score     0\n",
            "dtype: int64\n"
          ]
        }
      ]
    },
    {
      "cell_type": "markdown",
      "source": [],
      "metadata": {
        "id": "rnwdNqcFHA14"
      }
    },
    {
      "cell_type": "code",
      "source": [
        "print(infecciosas_2022.isnull().sum())"
      ],
      "metadata": {
        "id": "sNRG0dVXHBi6"
      },
      "execution_count": null,
      "outputs": []
    },
    {
      "cell_type": "markdown",
      "source": [],
      "metadata": {
        "id": "yfvJI_7xHeVD"
      }
    },
    {
      "cell_type": "code",
      "source": [
        "print(infecciosas_2021.isnull().sum())"
      ],
      "metadata": {
        "id": "9FpbRYobHeuu"
      },
      "execution_count": null,
      "outputs": []
    },
    {
      "cell_type": "markdown",
      "source": [],
      "metadata": {
        "id": "pjJJwnuQHfOq"
      }
    },
    {
      "cell_type": "code",
      "source": [
        "print(infecciosas_2020.isnull().sum())"
      ],
      "metadata": {
        "id": "20Xy8SetHfpX"
      },
      "execution_count": null,
      "outputs": []
    },
    {
      "cell_type": "markdown",
      "source": [],
      "metadata": {
        "id": "RDlDGDklHkog"
      }
    },
    {
      "cell_type": "code",
      "source": [
        "print(oculares_2023.isnull().sum())"
      ],
      "metadata": {
        "id": "9w_XKu_JHlGa"
      },
      "execution_count": null,
      "outputs": []
    },
    {
      "cell_type": "markdown",
      "source": [],
      "metadata": {
        "id": "TXmQTVJyHo9n"
      }
    },
    {
      "cell_type": "code",
      "source": [
        "print(oculares_2022.isnull().sum())"
      ],
      "metadata": {
        "id": "rzxKrIMXHpcr"
      },
      "execution_count": null,
      "outputs": []
    },
    {
      "cell_type": "markdown",
      "source": [],
      "metadata": {
        "id": "WdvAYDrsHqbV"
      }
    },
    {
      "cell_type": "code",
      "source": [
        "print(oculares_2021.isnull().sum())"
      ],
      "metadata": {
        "id": "grF867BhHq16"
      },
      "execution_count": null,
      "outputs": []
    },
    {
      "cell_type": "markdown",
      "source": [],
      "metadata": {
        "id": "qiLXqmfyHrpk"
      }
    },
    {
      "cell_type": "code",
      "source": [
        "print(oculares_2020.isnull().sum())"
      ],
      "metadata": {
        "id": "7Zke3XxIHsO6"
      },
      "execution_count": null,
      "outputs": []
    },
    {
      "cell_type": "markdown",
      "source": [],
      "metadata": {
        "id": "fRcVLmWgHwio"
      }
    },
    {
      "cell_type": "code",
      "source": [
        "print(tumores_2023.isnull().sum())"
      ],
      "metadata": {
        "id": "yiEiIBJdHxDV"
      },
      "execution_count": null,
      "outputs": []
    },
    {
      "cell_type": "markdown",
      "source": [],
      "metadata": {
        "id": "bsnqCyt3H02z"
      }
    },
    {
      "cell_type": "code",
      "source": [
        "print(tumores_2022.isnull().sum())"
      ],
      "metadata": {
        "id": "8kcgLNmVH1X7"
      },
      "execution_count": null,
      "outputs": []
    },
    {
      "cell_type": "markdown",
      "source": [],
      "metadata": {
        "id": "vM9x6QujH2Dw"
      }
    },
    {
      "cell_type": "code",
      "source": [
        "print(tumores_2021.isnull().sum())"
      ],
      "metadata": {
        "id": "oAM3D5y2H2fD"
      },
      "execution_count": null,
      "outputs": []
    },
    {
      "cell_type": "markdown",
      "source": [],
      "metadata": {
        "id": "6OuaQOG7H3Np"
      }
    },
    {
      "cell_type": "code",
      "source": [
        "print(tumores_2020.isnull().sum())"
      ],
      "metadata": {
        "id": "qlI8ORGEH3mf"
      },
      "execution_count": null,
      "outputs": []
    },
    {
      "cell_type": "markdown",
      "source": [
        "# ->Análise de Séries Temporais"
      ],
      "metadata": {
        "id": "w7U8Lyb5r9Jj"
      }
    },
    {
      "cell_type": "markdown",
      "source": [
        "## Consolidação\n"
      ],
      "metadata": {
        "id": "eV9vVdxCWSt2"
      }
    },
    {
      "cell_type": "markdown",
      "source": [
        "### Consolidação doenças infecciosas"
      ],
      "metadata": {
        "id": "MfnmpI6krJBw"
      }
    },
    {
      "cell_type": "code",
      "source": [
        "import pandas as pd\n",
        "\n",
        "# Exemplo de consolidação\n",
        "infecciosas_2020_S = pd.read_csv('/Doenças infecciosas 2020 dataset.csv', sep=';', encoding='latin1', skiprows=4)\n",
        "infecciosas_2021_S = pd.read_csv('/Doenças infecciosas 2021 dataset.csv', sep=';', encoding='latin1', skiprows=4)\n",
        "infecciosas_2022_S = pd.read_csv('/Doenças infecciosas 2022 dataset.csv', sep=';', encoding='latin1', skiprows=4)\n",
        "infecciosas_2023_S = pd.read_csv('/Doenças infecciosas 2023 dataset.csv', sep=';', encoding='latin1', skiprows=4)\n",
        "\n",
        "infecciosas_2020_S.columns = ['Região', 'Capítulo', 'Óbitos']\n",
        "infecciosas_2021_S.columns = ['Região', 'Capítulo', 'Óbitos']\n",
        "infecciosas_2022_S.columns = ['Região', 'Capítulo', 'Óbitos']\n",
        "infecciosas_2023_S.columns = ['Região', 'Capítulo', 'Óbitos']\n",
        "\n",
        "# Adicionar coluna de ano a cada dataset\n",
        "infecciosas_2020_S['Ano'] = 2020\n",
        "infecciosas_2021_S['Ano'] = 2021\n",
        "infecciosas_2022_S['Ano'] = 2022\n",
        "infecciosas_2023_S['Ano'] = 2023\n",
        "\n",
        "# Combinar todos os datasets\n",
        "infecciosas_completo = pd.concat([infecciosas_2020_S, infecciosas_2021_S, infecciosas_2022_S, infecciosas_2023_S])\n",
        "\n"
      ],
      "metadata": {
        "id": "06JmQnqRWHg-"
      },
      "execution_count": 51,
      "outputs": []
    },
    {
      "cell_type": "code",
      "source": [
        "infecciosas_completo['Data'] = pd.to_datetime(infecciosas_completo['Ano'], format='%Y')\n",
        "infecciosas_completo.set_index('Data', inplace=True)\n",
        "# esse é para caso tenha algum problema"
      ],
      "metadata": {
        "id": "H4G1ZPnVXFVu"
      },
      "execution_count": 52,
      "outputs": []
    },
    {
      "cell_type": "markdown",
      "source": [
        "Gráfico séries temporais: infecciosas (óbitos por Região ao longo dos anos)"
      ],
      "metadata": {
        "id": "sb1mQPH7X2ld"
      }
    },
    {
      "cell_type": "code",
      "source": [
        "infecciosas_completo.groupby(['Ano', 'Região'])['Óbitos'].sum().unstack().plot()\n",
        "plt.title(\"Óbitos por Região ao Longo dos Anos\")\n",
        "plt.show()\n",
        "#avaliação da evolução"
      ],
      "metadata": {
        "id": "sxv9YaxxXKAp",
        "colab": {
          "base_uri": "https://localhost:8080/",
          "height": 475
        },
        "outputId": "af5aede6-5ad6-4994-d661-aab55c454e6e",
        "collapsed": true
      },
      "execution_count": 79,
      "outputs": [
        {
          "output_type": "display_data",
          "data": {
            "text/plain": [
              "<Figure size 640x480 with 1 Axes>"
            ],
            "image/png": "[encoded data removed]"
          },
          "metadata": {}
        }
      ]
    },
    {
      "cell_type": "markdown",
      "source": [
        "Gráfico séries temporais: infecciosas (total de óbitos ao longo dos anos)"
      ],
      "metadata": {
        "id": "goBrioRKZdAe"
      }
    },
    {
      "cell_type": "code",
      "source": [
        "infecciosas_completo.groupby('Ano')['Óbitos'].sum().plot()\n",
        "plt.title(\"Total de Óbitos ao Longo dos Anos\")\n",
        "plt.show()\n",
        "#avaliação das tendências"
      ],
      "metadata": {
        "id": "qSkUdk4pXQU2",
        "colab": {
          "base_uri": "https://localhost:8080/",
          "height": 475
        },
        "outputId": "465c94ad-689a-46de-e98f-e5eeb5f4adf4",
        "collapsed": true
      },
      "execution_count": 80,
      "outputs": [
        {
          "output_type": "display_data",
          "data": {
            "text/plain": [
              "<Figure size 640x480 with 1 Axes>"
            ],
            "image/png": "[encoded data removed]"
          },
          "metadata": {}
        }
      ]
    },
    {
      "cell_type": "markdown",
      "source": [
        "Gráfico séries temporais: infecciosas (decomposição em séries temporais)"
      ],
      "metadata": {
        "id": "s33OKwA_ZjIP"
      }
    },
    {
      "cell_type": "code",
      "source": [
        "from statsmodels.tsa.seasonal import seasonal_decompose\n",
        "\n",
        "total_obitos = infecciosas_completo.groupby('Ano')['Óbitos'].sum()\n",
        "decomposed = seasonal_decompose(total_obitos, model='additive', period=1)\n",
        "decomposed.plot()\n",
        "plt.show()\n",
        "\n",
        "#decomposição em séries temporais"
      ],
      "metadata": {
        "id": "GIiuMsm7XbWf",
        "colab": {
          "base_uri": "https://localhost:8080/",
          "height": 487
        },
        "collapsed": true,
        "outputId": "4b2feaf2-c48a-4e4e-f6cb-3d24b68dd159"
      },
      "execution_count": 61,
      "outputs": [
        {
          "output_type": "display_data",
          "data": {
            "text/plain": [
              "<Figure size 640x480 with 4 Axes>"
            ],
            "image/png": "[encoded data removed]"
          },
          "metadata": {}
        }
      ]
    },
    {
      "cell_type": "markdown",
      "source": [
        "### Consolidação doenças oculares"
      ],
      "metadata": {
        "id": "ObLl1sHHrSbW"
      }
    },
    {
      "cell_type": "code",
      "source": [
        "import pandas as pd\n",
        "\n",
        "# Exemplo de consolidação\n",
        "oculares_2020_S = pd.read_csv('/Doenças oculares 2020 dataset.csv', sep=';', encoding='latin1', skiprows=4)\n",
        "oculares_2021_S = pd.read_csv('/Doenças oculares 2021 dataset.csv', sep=';', encoding='latin1', skiprows=4)\n",
        "oculares_2022_S = pd.read_csv('/Doenças oculares 2022 dataset.csv', sep=';', encoding='latin1', skiprows=4)\n",
        "oculares_2023_S = pd.read_csv('/Doenças oculares 2023 dataset.csv', sep=';', encoding='latin1', skiprows=4)\n",
        "\n",
        "oculares_2020_S.columns = ['Região', 'Capítulo', 'Óbitos']\n",
        "oculares_2021_S.columns = ['Região', 'Capítulo', 'Óbitos']\n",
        "oculares_2022_S.columns = ['Região', 'Capítulo', 'Óbitos']\n",
        "oculares_2023_S.columns = ['Região', 'Capítulo', 'Óbitos']\n",
        "\n",
        "# Adicionar coluna de ano a cada dataset\n",
        "oculares_2020_S['Ano'] = 2020\n",
        "oculares_2021_S['Ano'] = 2021\n",
        "oculares_2022_S['Ano'] = 2022\n",
        "oculares_2023_S['Ano'] = 2023\n",
        "\n",
        "# Combinar todos os datasets\n",
        "oculares_completo = pd.concat([oculares_2020_S, oculares_2021_S, oculares_2022_S, oculares_2023_S])"
      ],
      "metadata": {
        "id": "dEAC0wh2rsPU"
      },
      "execution_count": 64,
      "outputs": []
    },
    {
      "cell_type": "markdown",
      "source": [
        "Gráfico séries temporais: oculares (óbitos por Região ao longo dos anos)"
      ],
      "metadata": {
        "id": "CS2k7TPfYXNI"
      }
    },
    {
      "cell_type": "code",
      "source": [
        "oculares_completo.groupby(['Ano', 'Região'])['Óbitos'].sum().unstack().plot()\n",
        "plt.title(\"Óbitos por Região ao Longo dos Anos\")\n",
        "plt.show()\n",
        "#avaliação da evolução"
      ],
      "metadata": {
        "id": "6BIgAb6-tIx9",
        "colab": {
          "base_uri": "https://localhost:8080/",
          "height": 475
        },
        "outputId": "c457dda1-729c-4e9a-8f79-9eb6817ba937"
      },
      "execution_count": 81,
      "outputs": [
        {
          "output_type": "display_data",
          "data": {
            "text/plain": [
              "<Figure size 640x480 with 1 Axes>"
            ],
            "image/png": "[encoded data removed]"
          },
          "metadata": {}
        }
      ]
    },
    {
      "cell_type": "markdown",
      "source": [
        "Gráfico séries temporais: oculares (total de óbitos ao longo dos anos)"
      ],
      "metadata": {
        "id": "smUfd2neZVfK"
      }
    },
    {
      "cell_type": "code",
      "source": [
        "oculares_completo.groupby('Ano')['Óbitos'].sum().plot()\n",
        "plt.title(\"Total de Óbitos ao Longo dos Anos\")\n",
        "plt.show()\n",
        "#avaliação das tendências"
      ],
      "metadata": {
        "id": "64BZUjBrtJUf",
        "colab": {
          "base_uri": "https://localhost:8080/",
          "height": 475
        },
        "outputId": "cbe1764e-0541-47d2-edfe-eee4f6e50737"
      },
      "execution_count": 82,
      "outputs": [
        {
          "output_type": "display_data",
          "data": {
            "text/plain": [
              "<Figure size 640x480 with 1 Axes>"
            ],
            "image/png": "[encoded data removed]"
          },
          "metadata": {}
        }
      ]
    },
    {
      "cell_type": "markdown",
      "source": [
        "Gráfico séries temporais: oculares (decomposição em séries temporais)"
      ],
      "metadata": {
        "id": "-y1cixd1Zw04"
      }
    },
    {
      "cell_type": "code",
      "source": [
        "from statsmodels.tsa.seasonal import seasonal_decompose\n",
        "\n",
        "total_obitos = oculares_completo.groupby('Ano')['Óbitos'].sum()\n",
        "decomposed = seasonal_decompose(total_obitos, model='additive', period=1)\n",
        "decomposed.plot()\n",
        "plt.show()\n",
        "\n",
        "#decomposição em séries temporais"
      ],
      "metadata": {
        "id": "cKaKofeUtKAG",
        "colab": {
          "base_uri": "https://localhost:8080/",
          "height": 487
        },
        "outputId": "5633b754-22dc-4ba7-f30e-8307a84e866c"
      },
      "execution_count": null,
      "outputs": [
        {
          "output_type": "display_data",
          "data": {
            "text/plain": [
              "<Figure size 640x480 with 4 Axes>"
            ],
            "image/png": "[encoded data removed]"
          },
          "metadata": {}
        }
      ]
    },
    {
      "cell_type": "markdown",
      "source": [
        "### Consolidação neoplasias"
      ],
      "metadata": {
        "id": "aSYIzR_RrdQF"
      }
    },
    {
      "cell_type": "code",
      "source": [
        "import pandas as pd\n",
        "\n",
        "# Exemplo de consolidação\n",
        "tumores_2020_S = pd.read_csv('/Neoplasia (Tumores) 2020 dataset.csv', sep=';', encoding='latin1', skiprows=4)\n",
        "tumores_2021_S = pd.read_csv('/Neoplasia (Tumores) 2021 dataset.csv', sep=';', encoding='latin1', skiprows=4)\n",
        "tumores_2022_S = pd.read_csv('/Neoplasia (Tumores) 2022 dataset.csv', sep=';', encoding='latin1', skiprows=4)\n",
        "tumores_2023_S = pd.read_csv('/Neoplasia (Tumores) 2023 dataset.csv', sep=';', encoding='latin1', skiprows=4)\n",
        "\n",
        "tumores_2020_S.columns = ['Região', 'Capítulo', 'Óbitos']\n",
        "tumores_2021_S.columns = ['Região', 'Capítulo', 'Óbitos']\n",
        "tumores_2022_S.columns = ['Região', 'Capítulo', 'Óbitos']\n",
        "tumores_2023_S.columns = ['Região', 'Capítulo', 'Óbitos']\n",
        "\n",
        "# Adicionar coluna de ano a cada dataset\n",
        "tumores_2020_S['Ano'] = 2020\n",
        "tumores_2021_S['Ano'] = 2021\n",
        "tumores_2022_S['Ano'] = 2022\n",
        "tumores_2023_S['Ano'] = 2023\n",
        "\n",
        "# Combinar todos os datasets\n",
        "tumores_completo = pd.concat([tumores_2020_S, tumores_2021_S, tumores_2022_S, tumores_2023_S])"
      ],
      "metadata": {
        "id": "QLhMo0PmsUuW"
      },
      "execution_count": 65,
      "outputs": []
    },
    {
      "cell_type": "markdown",
      "source": [
        "Gráfico séries temporais: neoplasias (óbitos por Região ao longo dos anos)"
      ],
      "metadata": {
        "id": "Br_AtiyXYfE1"
      }
    },
    {
      "cell_type": "code",
      "source": [
        "tumores_completo.groupby(['Ano', 'Região'])['Óbitos'].sum().unstack().plot()\n",
        "plt.title(\"Óbitos por Região ao Longo dos Anos\")\n",
        "plt.show()\n",
        "#avaliação da evolução"
      ],
      "metadata": {
        "id": "l_Rfwc2Lw9KZ",
        "colab": {
          "base_uri": "https://localhost:8080/",
          "height": 475
        },
        "collapsed": true,
        "outputId": "f93274b3-851c-497d-9b32-28830533b900"
      },
      "execution_count": 83,
      "outputs": [
        {
          "output_type": "display_data",
          "data": {
            "text/plain": [
              "<Figure size 640x480 with 1 Axes>"
            ],
            "image/png": "[encoded data removed]"
          },
          "metadata": {}
        }
      ]
    },
    {
      "cell_type": "markdown",
      "source": [
        "Gráfico séries temporais: neoplasias (total de óbitos ao longo dos anos)"
      ],
      "metadata": {
        "id": "XuzH6tlSYt9M"
      }
    },
    {
      "cell_type": "code",
      "source": [
        "tumores_completo.groupby('Ano')['Óbitos'].sum().plot()\n",
        "plt.title(\"Total de Óbitos ao Longo dos Anos\")\n",
        "plt.show()\n",
        "#avaliação das tendências"
      ],
      "metadata": {
        "id": "XIA3Cfxuw9kI",
        "colab": {
          "base_uri": "https://localhost:8080/",
          "height": 475
        },
        "collapsed": true,
        "outputId": "915f8122-dcfd-4973-e3cb-96bbabb01de0"
      },
      "execution_count": 84,
      "outputs": [
        {
          "output_type": "display_data",
          "data": {
            "text/plain": [
              "<Figure size 640x480 with 1 Axes>"
            ],
            "image/png": "[encoded data removed]"
          },
          "metadata": {}
        }
      ]
    },
    {
      "cell_type": "markdown",
      "source": [
        "Gráfico séries temporais: neoplasias (decomposição em séries temporais)"
      ],
      "metadata": {
        "id": "mZNe-KkXZ1et"
      }
    },
    {
      "cell_type": "code",
      "source": [
        "from statsmodels.tsa.seasonal import seasonal_decompose\n",
        "\n",
        "total_obitos = tumores_completo.groupby('Ano')['Óbitos'].sum()\n",
        "decomposed = seasonal_decompose(total_obitos, model='additive', period=1)\n",
        "decomposed.plot()\n",
        "plt.show()\n",
        "\n",
        "#decomposição em séries temporais"
      ],
      "metadata": {
        "id": "jJ8Umngvw-DR",
        "colab": {
          "base_uri": "https://localhost:8080/",
          "height": 487
        },
        "outputId": "a3bf0072-2f9c-40fc-a0f0-c8a1bd8d42e7"
      },
      "execution_count": 85,
      "outputs": [
        {
          "output_type": "display_data",
          "data": {
            "text/plain": [
              "<Figure size 640x480 with 4 Axes>"
            ],
            "image/png": "[encoded data removed]"
          },
          "metadata": {}
        }
      ]
    },
    {
      "cell_type": "markdown",
      "source": [
        "# Machine Learning"
      ],
      "metadata": {
        "id": "D3XtiVKHXMdG"
      }
    },
    {
      "cell_type": "markdown",
      "source": [
        "##Tratamento nos dados:"
      ],
      "metadata": {
        "id": "jMIF4DXhbIun"
      }
    },
    {
      "cell_type": "code",
      "source": [
        "from sklearn.preprocessing import LabelEncoder, StandardScaler\n",
        "\n",
        "# Exemplo de encoding para regiões\n",
        "infecciosas_completo['Região'] = LabelEncoder().fit_transform(infecciosas_completo['Região'])\n",
        "\n",
        "# Escalando os dados\n",
        "scaler = StandardScaler()\n",
        "infecciosas_completo['Óbitos'] = scaler.fit_transform(infecciosas_completo[['Óbitos']])\n"
      ],
      "metadata": {
        "id": "dzCpxQHgbBep",
        "collapsed": true
      },
      "execution_count": 62,
      "outputs": []
    },
    {
      "cell_type": "code",
      "source": [
        "from sklearn.preprocessing import LabelEncoder, StandardScaler\n",
        "\n",
        "# Exemplo de encoding para regiões\n",
        "oculares_completo['Região'] = LabelEncoder().fit_transform(oculares_completo['Região'])\n",
        "\n",
        "# Escalando os dados\n",
        "scaler = StandardScaler()\n",
        "oculares_completo['Óbitos'] = scaler.fit_transform(oculares_completo[['Óbitos']])"
      ],
      "metadata": {
        "id": "KiIXEYt4JNaA",
        "collapsed": true
      },
      "execution_count": 66,
      "outputs": []
    },
    {
      "cell_type": "code",
      "source": [
        "from sklearn.preprocessing import LabelEncoder, StandardScaler\n",
        "\n",
        "# Exemplo de encoding para regiões\n",
        "tumores_completo['Região'] = LabelEncoder().fit_transform(tumores_completo['Região'])\n",
        "\n",
        "# Escalando os dados\n",
        "scaler = StandardScaler()\n",
        "tumores_completo['Óbitos'] = scaler.fit_transform(tumores_completo[['Óbitos']])"
      ],
      "metadata": {
        "id": "8DwwckeKJN56"
      },
      "execution_count": 67,
      "outputs": []
    },
    {
      "cell_type": "markdown",
      "source": [
        "##Previsões para o próximo ano"
      ],
      "metadata": {
        "id": "d9VtlsPRmqSa"
      }
    },
    {
      "cell_type": "markdown",
      "source": [
        "###Previsão infecciosas 2024"
      ],
      "metadata": {
        "id": "EsfuimRLrGJB"
      }
    },
    {
      "cell_type": "code",
      "source": [
        "import pandas as pd\n",
        "from sklearn.model_selection import train_test_split\n",
        "from sklearn.linear_model import LinearRegression\n",
        "from sklearn.metrics import mean_squared_error, r2_score\n",
        "from sklearn.preprocessing import OneHotEncoder\n",
        "import numpy as np\n",
        "\n",
        "# Dataset consolidado (código anterior)\n",
        "# infecciosas_completo já foi definido anteriormente\n",
        "\n",
        "# Verificar valores ausentes\n",
        "print(\"Valores ausentes no dataset:\")\n",
        "print(infecciosas_completo.isnull().sum())\n",
        "\n",
        "# Remover valores ausentes (se houver)\n",
        "infecciosas_completo = infecciosas_completo.dropna()\n",
        "\n",
        "# One-hot encoding para a coluna 'Região' (transformação categórica)\n",
        "encoder = OneHotEncoder()\n",
        "regiao_encoded = encoder.fit_transform(infecciosas_completo[['Região']]).toarray()\n",
        "regiao_encoded_df = pd.DataFrame(regiao_encoded, columns=encoder.get_feature_names_out(['Região']))\n",
        "\n",
        "# Adicionar encoding ao dataset\n",
        "infecciosas_completo = pd.concat([infecciosas_completo.reset_index(drop=True), regiao_encoded_df], axis=1)\n",
        "\n",
        "# Selecionar features (Ano e colunas da codificação de 'Região') e variável alvo (Óbitos)\n",
        "X = infecciosas_completo[['Ano'] + list(regiao_encoded_df.columns)]\n",
        "y = infecciosas_completo['Óbitos']\n",
        "\n",
        "# Configurar o OneHotEncoder com as categorias conhecidas\n",
        "encoder = OneHotEncoder(categories=[['1 Região Norte', '2 Região Nordeste',\n",
        "                                     '3 Região Sudeste', '4 Região Sul',\n",
        "                                     '5 Região Centro-Oeste', 'Total']],\n",
        "                        handle_unknown='ignore')\n",
        "\n",
        "# Dividir em conjunto de treinamento e teste\n",
        "X_train, X_test, y_train, y_test = train_test_split(X, y, test_size=0.2, random_state=42)\n",
        "\n",
        "# Criar o modelo de regressão linear\n",
        "model = LinearRegression()\n",
        "model.fit(X_train, y_train)\n",
        "\n",
        "# Previsões no conjunto de teste\n",
        "y_pred = model.predict(X_test)\n",
        "\n",
        "# Avaliar o modelo\n",
        "mse = mean_squared_error(y_test, y_pred)\n",
        "r2 = r2_score(y_test, y_pred)\n",
        "\n",
        "print(f\"Erro Quadrático Médio (MSE): {mse}\")\n",
        "print(f\"Coeficiente de Determinação (R²): {r2}\")\n",
        "\n",
        "\n",
        "\n",
        "\n",
        "# Exibir coeficientes do modelo\n",
        "coeficientes = pd.DataFrame({'Feature': X.columns, 'Coeficiente': model.coef_})\n",
        "print(\"\\nCoeficientes do modelo:\")\n",
        "print(coeficientes)\n",
        "\n",
        "# Exemplo de previsão\n",
        "# Exemplo\n",
        "ano_exemplo = 2024\n",
        "regiao_exemplo = '3 Região Sudeste'  # Tem que ser exatamente como aparece no dataset\n",
        "\n",
        "# Codificar a região\n",
        "regiao_encoded_exemplo = encoder.fit_transform([[regiao_exemplo]]).toarray()\n",
        "\n",
        "# Garantir que a entrada tenha o mesmo número de colunas do modelo\n",
        "entrada_exemplo = np.zeros((1, model.n_features_in_))  # Criar entrada com 1 linha e o número esperado de colunas\n",
        "\n",
        "# Preencher as colunas relevantes\n",
        "entrada_exemplo[0, 0] = ano_exemplo  # Preencher o ano na primeira coluna\n",
        "entrada_exemplo[0, 1:len(regiao_encoded_exemplo[0]) + 1] = regiao_encoded_exemplo[0]  # Preencher as categorias\n",
        "\n",
        "# Fazer a previsão\n",
        "previsao_exemplo = model.predict(entrada_exemplo)\n",
        "print(f\"\\nPrevisão para o ano {ano_exemplo}, região {regiao_exemplo}: {abs(previsao_exemplo[0]):,.2f} óbitos (valor absoluto).\")\n",
        "\n",
        "\n",
        "\n"
      ],
      "metadata": {
        "colab": {
          "base_uri": "https://localhost:8080/"
        },
        "collapsed": true,
        "id": "Xjq6K8UQY4bX",
        "outputId": "97da585c-b1b3-46d3-917c-aa164556da5d"
      },
      "execution_count": 68,
      "outputs": [
        {
          "output_type": "stream",
          "name": "stdout",
          "text": [
            "Valores ausentes no dataset:\n",
            "Região       0\n",
            "Capítulo    34\n",
            "Óbitos      34\n",
            "Ano          0\n",
            "dtype: int64\n",
            "Erro Quadrático Médio (MSE): 2.0433627644456402\n",
            "Coeficiente de Determinação (R²): 0.3271844783086154\n",
            "\n",
            "Coeficientes do modelo:\n",
            "     Feature  Coeficiente\n",
            "0        Ano    -0.249266\n",
            "1   Região_9    -0.364222\n",
            "2  Região_10    -0.081716\n",
            "3  Região_11     0.146909\n",
            "4  Região_12    -0.238764\n",
            "5  Região_13    -0.394226\n",
            "6  Região_14     0.932019\n",
            "\n",
            "Previsão para o ano 2024, região 3 Região Sudeste: 0.65 óbitos (valor absoluto).\n"
          ]
        },
        {
          "output_type": "stream",
          "name": "stderr",
          "text": [
            "/usr/local/lib/python3.11/dist-packages/sklearn/utils/validation.py:2739: UserWarning: X does not have valid feature names, but LinearRegression was fitted with feature names\n",
            "  warnings.warn(\n"
          ]
        }
      ]
    },
    {
      "cell_type": "markdown",
      "source": [
        "###Previsão oculares 2024"
      ],
      "metadata": {
        "id": "es-mDIuwrNiV"
      }
    },
    {
      "cell_type": "code",
      "source": [
        "import pandas as pd\n",
        "from sklearn.model_selection import train_test_split\n",
        "from sklearn.linear_model import LinearRegression\n",
        "from sklearn.metrics import mean_squared_error, r2_score\n",
        "from sklearn.preprocessing import OneHotEncoder\n",
        "import numpy as np\n",
        "\n",
        "# Dataset consolidado (código anterior)\n",
        "# oculares_completo já foi definido anteriormente\n",
        "\n",
        "# Verificar valores ausentes\n",
        "print(\"Valores ausentes no dataset:\")\n",
        "print(oculares_completo.isnull().sum())\n",
        "\n",
        "# Remover valores ausentes (se houver)\n",
        "oculares_completo = oculares_completo.dropna()\n",
        "\n",
        "# One-hot encoding para a coluna 'Região' (transformação categórica)\n",
        "encoder = OneHotEncoder()\n",
        "regiao_encoded = encoder.fit_transform(oculares_completo[['Região']]).toarray()\n",
        "regiao_encoded_df = pd.DataFrame(regiao_encoded, columns=encoder.get_feature_names_out(['Região']))\n",
        "\n",
        "# Adicionar encoding ao dataset\n",
        "oculares_completo = pd.concat([oculares_completo.reset_index(drop=True), regiao_encoded_df], axis=1)\n",
        "\n",
        "# Selecionar features (Ano e colunas da codificação de 'Região') e variável alvo (Óbitos)\n",
        "X = oculares_completo[['Ano'] + list(regiao_encoded_df.columns)]\n",
        "y = oculares_completo['Óbitos']\n",
        "\n",
        "# Configurar o OneHotEncoder com as categorias conhecidas\n",
        "encoder = OneHotEncoder(categories=[['1 Região Norte', '2 Região Nordeste',\n",
        "                                     '3 Região Sudeste', '4 Região Sul',\n",
        "                                     '5 Região Centro-Oeste', 'Total']],\n",
        "                        handle_unknown='ignore')\n",
        "\n",
        "# Dividir em conjunto de treinamento e teste\n",
        "X_train, X_test, y_train, y_test = train_test_split(X, y, test_size=0.2, random_state=42)\n",
        "\n",
        "# Criar o modelo de regressão linear\n",
        "model = LinearRegression()\n",
        "model.fit(X_train, y_train)\n",
        "\n",
        "# Previsões no conjunto de teste\n",
        "y_pred = model.predict(X_test)\n",
        "\n",
        "# Avaliar o modelo\n",
        "mse = mean_squared_error(y_test, y_pred)\n",
        "r2 = r2_score(y_test, y_pred)\n",
        "\n",
        "print(f\"Erro Quadrático Médio (MSE): {mse}\")\n",
        "print(f\"Coeficiente de Determinação (R²): {r2}\")\n",
        "\n",
        "\n",
        "\n",
        "\n",
        "# Exibir coeficientes do modelo\n",
        "coeficientes = pd.DataFrame({'Feature': X.columns, 'Coeficiente': model.coef_})\n",
        "print(\"\\nCoeficientes do modelo:\")\n",
        "print(coeficientes)\n",
        "\n",
        "# Exemplo de previsão\n",
        "# Exemplo\n",
        "ano_exemplo = 2024\n",
        "regiao_exemplo = '1 Região Norte'  # Tem que ser exatamente como aparece no dataset\n",
        "\n",
        "# Codificar a região\n",
        "regiao_encoded_exemplo = encoder.fit_transform([[regiao_exemplo]]).toarray()\n",
        "\n",
        "# Garantir que a entrada tenha o mesmo número de colunas do modelo\n",
        "entrada_exemplo = np.zeros((1, model.n_features_in_))  # Criar entrada com 1 linha e o número esperado de colunas\n",
        "\n",
        "# Preencher as colunas relevantes\n",
        "entrada_exemplo[0, 0] = ano_exemplo  # Preencher o ano na primeira coluna\n",
        "entrada_exemplo[0, 1:len(regiao_encoded_exemplo[0]) + 1] = regiao_encoded_exemplo[0]  # Preencher as categorias\n",
        "\n",
        "# Fazer a previsão\n",
        "previsao_exemplo = model.predict(entrada_exemplo)\n",
        "print(f\"\\nPrevisão para o ano {ano_exemplo}, região {regiao_exemplo}: {abs(previsao_exemplo[0]):,.2f} óbitos (valor absoluto).\")"
      ],
      "metadata": {
        "colab": {
          "base_uri": "https://localhost:8080/"
        },
        "id": "5ugGaU7Gol8a",
        "outputId": "dc07d523-21b6-4b63-e76a-f9a74ec2f283"
      },
      "execution_count": 72,
      "outputs": [
        {
          "output_type": "stream",
          "name": "stdout",
          "text": [
            "Valores ausentes no dataset:\n",
            "Região       0\n",
            "Capítulo     0\n",
            "Óbitos       0\n",
            "Ano          0\n",
            "Região_8     0\n",
            "Região_9     0\n",
            "Região_10    0\n",
            "Região_11    0\n",
            "Região_12    0\n",
            "Região_13    0\n",
            "dtype: int64\n",
            "Erro Quadrático Médio (MSE): 0.07380625886554178\n",
            "Coeficiente de Determinação (R²): -9.976762601600193\n",
            "\n",
            "Coeficientes do modelo:\n",
            "      Feature  Coeficiente\n",
            "0         Ano     0.178738\n",
            "1    Região_8    -0.354564\n",
            "2    Região_8    -0.354564\n",
            "3    Região_9     0.170743\n",
            "4    Região_9     0.170743\n",
            "5   Região_10     0.093869\n",
            "6   Região_10     0.093869\n",
            "7   Região_11    -0.386542\n",
            "8   Região_11    -0.386542\n",
            "9   Região_12    -0.488617\n",
            "10  Região_12    -0.488617\n",
            "11  Região_13     0.965110\n",
            "12  Região_13     0.965110\n",
            "\n",
            "Previsão para o ano 2024, região 1 Região Norte: 0.02 óbitos (valor absoluto).\n"
          ]
        },
        {
          "output_type": "stream",
          "name": "stderr",
          "text": [
            "/usr/local/lib/python3.11/dist-packages/sklearn/utils/validation.py:2739: UserWarning: X does not have valid feature names, but LinearRegression was fitted with feature names\n",
            "  warnings.warn(\n"
          ]
        }
      ]
    },
    {
      "cell_type": "markdown",
      "source": [
        "###Previsão tumores 2024"
      ],
      "metadata": {
        "id": "elrsO_FSrRdu"
      }
    },
    {
      "cell_type": "code",
      "source": [
        "import pandas as pd\n",
        "from sklearn.model_selection import train_test_split\n",
        "from sklearn.linear_model import LinearRegression\n",
        "from sklearn.metrics import mean_squared_error, r2_score\n",
        "from sklearn.preprocessing import OneHotEncoder\n",
        "import numpy as np\n",
        "\n",
        "# Dataset consolidado (código anterior)\n",
        "# tumores_completo já foi definido anteriormente\n",
        "\n",
        "# Verificar valores ausentes\n",
        "print(\"Valores ausentes no dataset:\")\n",
        "print(tumores_completo.isnull().sum())\n",
        "\n",
        "# Remover valores ausentes (se houver)\n",
        "tumores_completo = tumores_completo.dropna()\n",
        "\n",
        "# One-hot encoding para a coluna 'Região' (transformação categórica)\n",
        "encoder = OneHotEncoder()\n",
        "regiao_encoded = encoder.fit_transform(tumores_completo[['Região']]).toarray()\n",
        "regiao_encoded_df = pd.DataFrame(regiao_encoded, columns=encoder.get_feature_names_out(['Região']))\n",
        "\n",
        "# Adicionar encoding ao dataset\n",
        "tumores_completo = pd.concat([tumores_completo.reset_index(drop=True), regiao_encoded_df], axis=1)\n",
        "\n",
        "# Selecionar features (Ano e colunas da codificação de 'Região') e variável alvo (Óbitos)\n",
        "X = tumores_completo[['Ano'] + list(regiao_encoded_df.columns)]\n",
        "y = tumores_completo['Óbitos']\n",
        "\n",
        "# Configurar o OneHotEncoder com as categorias conhecidas\n",
        "encoder = OneHotEncoder(categories=[['1 Região Norte', '2 Região Nordeste',\n",
        "                                     '3 Região Sudeste', '4 Região Sul',\n",
        "                                     '5 Região Centro-Oeste', 'Total']],\n",
        "                        handle_unknown='ignore')\n",
        "\n",
        "# Dividir em conjunto de treinamento e teste\n",
        "X_train, X_test, y_train, y_test = train_test_split(X, y, test_size=0.2, random_state=42)\n",
        "\n",
        "# Criar o modelo de regressão linear\n",
        "model = LinearRegression()\n",
        "model.fit(X_train, y_train)\n",
        "\n",
        "# Previsões no conjunto de teste\n",
        "y_pred = model.predict(X_test)\n",
        "\n",
        "# Avaliar o modelo\n",
        "mse = mean_squared_error(y_test, y_pred)\n",
        "r2 = r2_score(y_test, y_pred)\n",
        "\n",
        "print(f\"Erro Quadrático Médio (MSE): {mse}\")\n",
        "print(f\"Coeficiente de Determinação (R²): {r2}\")\n",
        "\n",
        "\n",
        "\n",
        "\n",
        "# Exibir coeficientes do modelo\n",
        "coeficientes = pd.DataFrame({'Feature': X.columns, 'Coeficiente': model.coef_})\n",
        "print(\"\\nCoeficientes do modelo:\")\n",
        "print(coeficientes)\n",
        "\n",
        "# Exemplo de previsão\n",
        "# Exemplo\n",
        "ano_exemplo = 2024\n",
        "regiao_exemplo = '5 Região Centro-Oeste'  # Tem que ser exatamente como aparece no dataset\n",
        "\n",
        "# Codificar a região\n",
        "regiao_encoded_exemplo = encoder.fit_transform([[regiao_exemplo]]).toarray()\n",
        "\n",
        "# Garantir que a entrada tenha o mesmo número de colunas do modelo\n",
        "entrada_exemplo = np.zeros((1, model.n_features_in_))  # Criar entrada com 1 linha e o número esperado de colunas\n",
        "\n",
        "# Preencher as colunas relevantes\n",
        "entrada_exemplo[0, 0] = ano_exemplo  # Preencher o ano na primeira coluna\n",
        "entrada_exemplo[0, 1:len(regiao_encoded_exemplo[0]) + 1] = regiao_encoded_exemplo[0]  # Preencher as categorias\n",
        "\n",
        "# Fazer a previsão\n",
        "previsao_exemplo = model.predict(entrada_exemplo)\n",
        "print(f\"\\nPrevisão para o ano {ano_exemplo}, região {regiao_exemplo}: {abs(previsao_exemplo[0]):,.2f} óbitos (valor absoluto).\")"
      ],
      "metadata": {
        "colab": {
          "base_uri": "https://localhost:8080/"
        },
        "collapsed": true,
        "id": "niYXTdLiomo-",
        "outputId": "3a4664bc-275c-49e8-8880-078bd9d5ee24"
      },
      "execution_count": 73,
      "outputs": [
        {
          "output_type": "stream",
          "name": "stdout",
          "text": [
            "Valores ausentes no dataset:\n",
            "Região       0\n",
            "Capítulo    32\n",
            "Óbitos      32\n",
            "Ano          0\n",
            "dtype: int64\n",
            "Erro Quadrático Médio (MSE): 0.001773500479838707\n",
            "Coeficiente de Determinação (R²): 0.9985494690232196\n",
            "\n",
            "Coeficientes do modelo:\n",
            "     Feature  Coeficiente\n",
            "0        Ano     0.039908\n",
            "1   Região_8    -0.861134\n",
            "2   Região_9    -0.334185\n",
            "3  Região_10     0.401642\n",
            "4  Região_11    -0.440632\n",
            "5  Região_12    -0.809059\n",
            "6  Região_13     2.043367\n",
            "\n",
            "Previsão para o ano 2024, região 5 Região Centro-Oeste: 0.71 óbitos (valor absoluto).\n"
          ]
        },
        {
          "output_type": "stream",
          "name": "stderr",
          "text": [
            "/usr/local/lib/python3.11/dist-packages/sklearn/utils/validation.py:2739: UserWarning: X does not have valid feature names, but LinearRegression was fitted with feature names\n",
            "  warnings.warn(\n"
          ]
        }
      ]
    },
    {
      "cell_type": "markdown",
      "source": [
        "##Clusterização com K-means:"
      ],
      "metadata": {
        "id": "KTQ_GJFkbavE"
      }
    },
    {
      "cell_type": "code",
      "source": [
        "from sklearn.cluster import KMeans\n",
        "\n",
        "kmeans = KMeans(n_clusters=3, random_state=42)\n",
        "infecciosas_completo['Cluster'] = kmeans.fit_predict(infecciosas_completo[['Óbitos']])\n",
        "\n",
        "print(infecciosas_completo[['Região', 'Cluster']])\n"
      ],
      "metadata": {
        "id": "uT_LUtxpbftf",
        "colab": {
          "base_uri": "https://localhost:8080/"
        },
        "collapsed": true,
        "outputId": "00ea1cda-3ede-47ab-eca5-9d391f82653f"
      },
      "execution_count": 69,
      "outputs": [
        {
          "output_type": "stream",
          "name": "stdout",
          "text": [
            "    Região  Cluster\n",
            "0        9        1\n",
            "1       10        2\n",
            "2       11        2\n",
            "3       12        1\n",
            "4       13        1\n",
            "5       14        0\n",
            "6        9        1\n",
            "7       10        2\n",
            "8       11        0\n",
            "9       12        2\n",
            "10      13        1\n",
            "11      14        0\n",
            "12       9        1\n",
            "13      10        1\n",
            "14      11        2\n",
            "15      12        1\n",
            "16      13        1\n",
            "17      14        2\n",
            "18       9        1\n",
            "19      10        1\n",
            "20      11        1\n",
            "21      12        1\n",
            "22      13        1\n",
            "23      14        2\n"
          ]
        }
      ]
    },
    {
      "cell_type": "code",
      "source": [
        "from sklearn.cluster import KMeans\n",
        "\n",
        "kmeans = KMeans(n_clusters=3, random_state=42)\n",
        "oculares_completo['Cluster'] = kmeans.fit_predict(oculares_completo[['Óbitos']])\n",
        "\n",
        "print(oculares_completo[['Região', 'Cluster']])"
      ],
      "metadata": {
        "id": "fvGaQDrIMXTH",
        "colab": {
          "base_uri": "https://localhost:8080/",
          "height": 478
        },
        "outputId": "a90727b1-0f0a-4c44-c9d8-c474d4201516"
      },
      "execution_count": 70,
      "outputs": [
        {
          "output_type": "error",
          "ename": "ValueError",
          "evalue": "Input X contains NaN.\nKMeans does not accept missing values encoded as NaN natively. For supervised learning, you might want to consider sklearn.ensemble.HistGradientBoostingClassifier and Regressor which accept missing values encoded as NaNs natively. Alternatively, it is possible to preprocess the data, for instance by using an imputer transformer in a pipeline or drop samples with missing values. See https://scikit-learn.org/stable/modules/impute.html You can find a list of all estimators that handle NaN values at the following page: https://scikit-learn.org/stable/modules/impute.html#estimators-that-handle-nan-values",
          "traceback": [
            "\u001b[0;31m---------------------------------------------------------------------------\u001b[0m",
            "\u001b[0;31mValueError\u001b[0m                                Traceback (most recent call last)",
            "\u001b[0;32m<ipython-input-70-476f8e4234cf>\u001b[0m in \u001b[0;36m<cell line: 0>\u001b[0;34m()\u001b[0m\n\u001b[1;32m      2\u001b[0m \u001b[0;34m\u001b[0m\u001b[0m\n\u001b[1;32m      3\u001b[0m \u001b[0mkmeans\u001b[0m \u001b[0;34m=\u001b[0m \u001b[0mKMeans\u001b[0m\u001b[0;34m(\u001b[0m\u001b[0mn_clusters\u001b[0m\u001b[0;34m=\u001b[0m\u001b[0;36m3\u001b[0m\u001b[0;34m,\u001b[0m \u001b[0mrandom_state\u001b[0m\u001b[0;34m=\u001b[0m\u001b[0;36m42\u001b[0m\u001b[0;34m)\u001b[0m\u001b[0;34m\u001b[0m\u001b[0;34m\u001b[0m\u001b[0m\n\u001b[0;32m----> 4\u001b[0;31m \u001b[0moculares_completo\u001b[0m\u001b[0;34m[\u001b[0m\u001b[0;34m'Cluster'\u001b[0m\u001b[0;34m]\u001b[0m \u001b[0;34m=\u001b[0m \u001b[0mkmeans\u001b[0m\u001b[0;34m.\u001b[0m\u001b[0mfit_predict\u001b[0m\u001b[0;34m(\u001b[0m\u001b[0moculares_completo\u001b[0m\u001b[0;34m[\u001b[0m\u001b[0;34m[\u001b[0m\u001b[0;34m'Óbitos'\u001b[0m\u001b[0;34m]\u001b[0m\u001b[0;34m]\u001b[0m\u001b[0;34m)\u001b[0m\u001b[0;34m\u001b[0m\u001b[0;34m\u001b[0m\u001b[0m\n\u001b[0m\u001b[1;32m      5\u001b[0m \u001b[0;34m\u001b[0m\u001b[0m\n\u001b[1;32m      6\u001b[0m \u001b[0mprint\u001b[0m\u001b[0;34m(\u001b[0m\u001b[0moculares_completo\u001b[0m\u001b[0;34m[\u001b[0m\u001b[0;34m[\u001b[0m\u001b[0;34m'Região'\u001b[0m\u001b[0;34m,\u001b[0m \u001b[0;34m'Cluster'\u001b[0m\u001b[0;34m]\u001b[0m\u001b[0;34m]\u001b[0m\u001b[0;34m)\u001b[0m\u001b[0;34m\u001b[0m\u001b[0;34m\u001b[0m\u001b[0m\n",
            "\u001b[0;32m/usr/local/lib/python3.11/dist-packages/sklearn/cluster/_kmeans.py\u001b[0m in \u001b[0;36mfit_predict\u001b[0;34m(self, X, y, sample_weight)\u001b[0m\n\u001b[1;32m   1062\u001b[0m             \u001b[0mIndex\u001b[0m \u001b[0mof\u001b[0m \u001b[0mthe\u001b[0m \u001b[0mcluster\u001b[0m \u001b[0meach\u001b[0m \u001b[0msample\u001b[0m \u001b[0mbelongs\u001b[0m \u001b[0mto\u001b[0m\u001b[0;34m.\u001b[0m\u001b[0;34m\u001b[0m\u001b[0;34m\u001b[0m\u001b[0m\n\u001b[1;32m   1063\u001b[0m         \"\"\"\n\u001b[0;32m-> 1064\u001b[0;31m         \u001b[0;32mreturn\u001b[0m \u001b[0mself\u001b[0m\u001b[0;34m.\u001b[0m\u001b[0mfit\u001b[0m\u001b[0;34m(\u001b[0m\u001b[0mX\u001b[0m\u001b[0;34m,\u001b[0m \u001b[0msample_weight\u001b[0m\u001b[0;34m=\u001b[0m\u001b[0msample_weight\u001b[0m\u001b[0;34m)\u001b[0m\u001b[0;34m.\u001b[0m\u001b[0mlabels_\u001b[0m\u001b[0;34m\u001b[0m\u001b[0;34m\u001b[0m\u001b[0m\n\u001b[0m\u001b[1;32m   1065\u001b[0m \u001b[0;34m\u001b[0m\u001b[0m\n\u001b[1;32m   1066\u001b[0m     \u001b[0;32mdef\u001b[0m \u001b[0mpredict\u001b[0m\u001b[0;34m(\u001b[0m\u001b[0mself\u001b[0m\u001b[0;34m,\u001b[0m \u001b[0mX\u001b[0m\u001b[0;34m)\u001b[0m\u001b[0;34m:\u001b[0m\u001b[0;34m\u001b[0m\u001b[0;34m\u001b[0m\u001b[0m\n",
            "\u001b[0;32m/usr/local/lib/python3.11/dist-packages/sklearn/base.py\u001b[0m in \u001b[0;36mwrapper\u001b[0;34m(estimator, *args, **kwargs)\u001b[0m\n\u001b[1;32m   1387\u001b[0m                 )\n\u001b[1;32m   1388\u001b[0m             ):\n\u001b[0;32m-> 1389\u001b[0;31m                 \u001b[0;32mreturn\u001b[0m \u001b[0mfit_method\u001b[0m\u001b[0;34m(\u001b[0m\u001b[0mestimator\u001b[0m\u001b[0;34m,\u001b[0m \u001b[0;34m*\u001b[0m\u001b[0margs\u001b[0m\u001b[0;34m,\u001b[0m \u001b[0;34m**\u001b[0m\u001b[0mkwargs\u001b[0m\u001b[0;34m)\u001b[0m\u001b[0;34m\u001b[0m\u001b[0;34m\u001b[0m\u001b[0m\n\u001b[0m\u001b[1;32m   1390\u001b[0m \u001b[0;34m\u001b[0m\u001b[0m\n\u001b[1;32m   1391\u001b[0m         \u001b[0;32mreturn\u001b[0m \u001b[0mwrapper\u001b[0m\u001b[0;34m\u001b[0m\u001b[0;34m\u001b[0m\u001b[0m\n",
            "\u001b[0;32m/usr/local/lib/python3.11/dist-packages/sklearn/cluster/_kmeans.py\u001b[0m in \u001b[0;36mfit\u001b[0;34m(self, X, y, sample_weight)\u001b[0m\n\u001b[1;32m   1452\u001b[0m             \u001b[0mFitted\u001b[0m \u001b[0mestimator\u001b[0m\u001b[0;34m.\u001b[0m\u001b[0;34m\u001b[0m\u001b[0;34m\u001b[0m\u001b[0m\n\u001b[1;32m   1453\u001b[0m         \"\"\"\n\u001b[0;32m-> 1454\u001b[0;31m         X = validate_data(\n\u001b[0m\u001b[1;32m   1455\u001b[0m             \u001b[0mself\u001b[0m\u001b[0;34m,\u001b[0m\u001b[0;34m\u001b[0m\u001b[0;34m\u001b[0m\u001b[0m\n\u001b[1;32m   1456\u001b[0m             \u001b[0mX\u001b[0m\u001b[0;34m,\u001b[0m\u001b[0;34m\u001b[0m\u001b[0;34m\u001b[0m\u001b[0m\n",
            "\u001b[0;32m/usr/local/lib/python3.11/dist-packages/sklearn/utils/validation.py\u001b[0m in \u001b[0;36mvalidate_data\u001b[0;34m(_estimator, X, y, reset, validate_separately, skip_check_array, **check_params)\u001b[0m\n\u001b[1;32m   2942\u001b[0m             \u001b[0mout\u001b[0m \u001b[0;34m=\u001b[0m \u001b[0mX\u001b[0m\u001b[0;34m,\u001b[0m \u001b[0my\u001b[0m\u001b[0;34m\u001b[0m\u001b[0;34m\u001b[0m\u001b[0m\n\u001b[1;32m   2943\u001b[0m     \u001b[0;32melif\u001b[0m \u001b[0;32mnot\u001b[0m \u001b[0mno_val_X\u001b[0m \u001b[0;32mand\u001b[0m \u001b[0mno_val_y\u001b[0m\u001b[0;34m:\u001b[0m\u001b[0;34m\u001b[0m\u001b[0;34m\u001b[0m\u001b[0m\n\u001b[0;32m-> 2944\u001b[0;31m         \u001b[0mout\u001b[0m \u001b[0;34m=\u001b[0m \u001b[0mcheck_array\u001b[0m\u001b[0;34m(\u001b[0m\u001b[0mX\u001b[0m\u001b[0;34m,\u001b[0m \u001b[0minput_name\u001b[0m\u001b[0;34m=\u001b[0m\u001b[0;34m\"X\"\u001b[0m\u001b[0;34m,\u001b[0m \u001b[0;34m**\u001b[0m\u001b[0mcheck_params\u001b[0m\u001b[0;34m)\u001b[0m\u001b[0;34m\u001b[0m\u001b[0;34m\u001b[0m\u001b[0m\n\u001b[0m\u001b[1;32m   2945\u001b[0m     \u001b[0;32melif\u001b[0m \u001b[0mno_val_X\u001b[0m \u001b[0;32mand\u001b[0m \u001b[0;32mnot\u001b[0m \u001b[0mno_val_y\u001b[0m\u001b[0;34m:\u001b[0m\u001b[0;34m\u001b[0m\u001b[0;34m\u001b[0m\u001b[0m\n\u001b[1;32m   2946\u001b[0m         \u001b[0mout\u001b[0m \u001b[0;34m=\u001b[0m \u001b[0m_check_y\u001b[0m\u001b[0;34m(\u001b[0m\u001b[0my\u001b[0m\u001b[0;34m,\u001b[0m \u001b[0;34m**\u001b[0m\u001b[0mcheck_params\u001b[0m\u001b[0;34m)\u001b[0m\u001b[0;34m\u001b[0m\u001b[0;34m\u001b[0m\u001b[0m\n",
            "\u001b[0;32m/usr/local/lib/python3.11/dist-packages/sklearn/utils/validation.py\u001b[0m in \u001b[0;36mcheck_array\u001b[0;34m(array, accept_sparse, accept_large_sparse, dtype, order, copy, force_writeable, force_all_finite, ensure_all_finite, ensure_non_negative, ensure_2d, allow_nd, ensure_min_samples, ensure_min_features, estimator, input_name)\u001b[0m\n\u001b[1;32m   1105\u001b[0m \u001b[0;34m\u001b[0m\u001b[0m\n\u001b[1;32m   1106\u001b[0m         \u001b[0;32mif\u001b[0m \u001b[0mensure_all_finite\u001b[0m\u001b[0;34m:\u001b[0m\u001b[0;34m\u001b[0m\u001b[0;34m\u001b[0m\u001b[0m\n\u001b[0;32m-> 1107\u001b[0;31m             _assert_all_finite(\n\u001b[0m\u001b[1;32m   1108\u001b[0m                 \u001b[0marray\u001b[0m\u001b[0;34m,\u001b[0m\u001b[0;34m\u001b[0m\u001b[0;34m\u001b[0m\u001b[0m\n\u001b[1;32m   1109\u001b[0m                 \u001b[0minput_name\u001b[0m\u001b[0;34m=\u001b[0m\u001b[0minput_name\u001b[0m\u001b[0;34m,\u001b[0m\u001b[0;34m\u001b[0m\u001b[0;34m\u001b[0m\u001b[0m\n",
            "\u001b[0;32m/usr/local/lib/python3.11/dist-packages/sklearn/utils/validation.py\u001b[0m in \u001b[0;36m_assert_all_finite\u001b[0;34m(X, allow_nan, msg_dtype, estimator_name, input_name)\u001b[0m\n\u001b[1;32m    118\u001b[0m         \u001b[0;32mreturn\u001b[0m\u001b[0;34m\u001b[0m\u001b[0;34m\u001b[0m\u001b[0m\n\u001b[1;32m    119\u001b[0m \u001b[0;34m\u001b[0m\u001b[0m\n\u001b[0;32m--> 120\u001b[0;31m     _assert_all_finite_element_wise(\n\u001b[0m\u001b[1;32m    121\u001b[0m         \u001b[0mX\u001b[0m\u001b[0;34m,\u001b[0m\u001b[0;34m\u001b[0m\u001b[0;34m\u001b[0m\u001b[0m\n\u001b[1;32m    122\u001b[0m         \u001b[0mxp\u001b[0m\u001b[0;34m=\u001b[0m\u001b[0mxp\u001b[0m\u001b[0;34m,\u001b[0m\u001b[0;34m\u001b[0m\u001b[0;34m\u001b[0m\u001b[0m\n",
            "\u001b[0;32m/usr/local/lib/python3.11/dist-packages/sklearn/utils/validation.py\u001b[0m in \u001b[0;36m_assert_all_finite_element_wise\u001b[0;34m(X, xp, allow_nan, msg_dtype, estimator_name, input_name)\u001b[0m\n\u001b[1;32m    167\u001b[0m                 \u001b[0;34m\"#estimators-that-handle-nan-values\"\u001b[0m\u001b[0;34m\u001b[0m\u001b[0;34m\u001b[0m\u001b[0m\n\u001b[1;32m    168\u001b[0m             )\n\u001b[0;32m--> 169\u001b[0;31m         \u001b[0;32mraise\u001b[0m \u001b[0mValueError\u001b[0m\u001b[0;34m(\u001b[0m\u001b[0mmsg_err\u001b[0m\u001b[0;34m)\u001b[0m\u001b[0;34m\u001b[0m\u001b[0;34m\u001b[0m\u001b[0m\n\u001b[0m\u001b[1;32m    170\u001b[0m \u001b[0;34m\u001b[0m\u001b[0m\n\u001b[1;32m    171\u001b[0m \u001b[0;34m\u001b[0m\u001b[0m\n",
            "\u001b[0;31mValueError\u001b[0m: Input X contains NaN.\nKMeans does not accept missing values encoded as NaN natively. For supervised learning, you might want to consider sklearn.ensemble.HistGradientBoostingClassifier and Regressor which accept missing values encoded as NaNs natively. Alternatively, it is possible to preprocess the data, for instance by using an imputer transformer in a pipeline or drop samples with missing values. See https://scikit-learn.org/stable/modules/impute.html You can find a list of all estimators that handle NaN values at the following page: https://scikit-learn.org/stable/modules/impute.html#estimators-that-handle-nan-values"
          ]
        }
      ]
    },
    {
      "cell_type": "code",
      "source": [
        "from sklearn.cluster import KMeans\n",
        "\n",
        "kmeans = KMeans(n_clusters=3, random_state=42)\n",
        "tumores_completo['Cluster'] = kmeans.fit_predict(tumores_completo[['Óbitos']])\n",
        "\n",
        "print(tumores_completo[['Região', 'Cluster']])"
      ],
      "metadata": {
        "id": "jkSeNhJFMXny"
      },
      "execution_count": null,
      "outputs": []
    }
  ]
}